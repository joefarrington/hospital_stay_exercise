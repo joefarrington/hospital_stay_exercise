{
 "cells": [
  {
   "cell_type": "markdown",
   "id": "fe33fcf0",
   "metadata": {},
   "source": [
    "# Data Science & LLM Technical Assessment\n",
    "\n",
    "Joseph Farrington, June 2025"
   ]
  },
  {
   "cell_type": "code",
   "execution_count": null,
   "id": "014ad4c1",
   "metadata": {},
   "outputs": [],
   "source": [
    "# Set up if using Google Colab\n",
    "# Ollama elements based on https://medium.com/google-cloud/gemma-3-ollama-on-colab-a-developers-quickstart-7bbf93ab8fef\n",
    "import sys\n",
    "import os\n",
    "if 'google.colab' in sys.modules:\n",
    "  # Clone the repository and install dependencies\n",
    "  !git -C hospital_stay_exercise pull || git clone https://github.com/joefarrington/hospital_stay_exercise hospital_stay_exercise;\n",
    "  os.chdir(\"hospital_stay_exercise\")\n",
    "  !pip install uv;\n",
    "  !uv pip install --system . \n",
    "\n",
    "  # Install Ollama and download model parameters\n",
    "  !curl -fsSL https://ollama.com/install.sh | sh\n",
    "  !nohup ollama serve &\n",
    "  !ollama pull llama3.2:3b"
   ]
  },
  {
   "cell_type": "markdown",
   "id": "fe7e9878",
   "metadata": {},
   "source": [
    "## 1. Predictive Modelling (Binary Classification)"
   ]
  },
  {
   "cell_type": "markdown",
   "id": "e2681abc",
   "metadata": {},
   "source": [
    "### Set-up and preliminary EDA"
   ]
  },
  {
   "cell_type": "code",
   "execution_count": 2,
   "id": "134d329a",
   "metadata": {},
   "outputs": [],
   "source": [
    "from pathlib import Path\n",
    "import numpy as np\n",
    "import pandas as pd\n",
    "import matplotlib.pyplot as plt\n",
    "import seaborn as sns\n",
    "import optuna\n",
    "import mlflow\n",
    "\n",
    "\n",
    "from sklearn import metrics\n",
    "from sklearn.pipeline import Pipeline\n",
    "from sklearn.preprocessing import OneHotEncoder, FunctionTransformer\n",
    "from sklearn.compose import ColumnTransformer\n",
    "from sklearn.ensemble import RandomForestClassifier\n",
    "from sklearn.feature_extraction.text import TfidfVectorizer\n",
    "from sklearn.model_selection import train_test_split, cross_val_score, StratifiedKFold\n",
    "from sklearn.inspection import permutation_importance\n",
    "\n",
    "SEED = 5"
   ]
  },
  {
   "cell_type": "code",
   "execution_count": 3,
   "id": "1a62ed54",
   "metadata": {},
   "outputs": [],
   "source": [
    "# Load data\n",
    "data_fp = Path(\"data/Assignment_Data.csv\")\n",
    "data = pd.read_csv(data_fp)"
   ]
  },
  {
   "cell_type": "code",
   "execution_count": 4,
   "id": "af361048",
   "metadata": {},
   "outputs": [
    {
     "data": {
      "text/html": [
       "<div>\n",
       "<style scoped>\n",
       "    .dataframe tbody tr th:only-of-type {\n",
       "        vertical-align: middle;\n",
       "    }\n",
       "\n",
       "    .dataframe tbody tr th {\n",
       "        vertical-align: top;\n",
       "    }\n",
       "\n",
       "    .dataframe thead th {\n",
       "        text-align: right;\n",
       "    }\n",
       "</style>\n",
       "<table border=\"1\" class=\"dataframe\">\n",
       "  <thead>\n",
       "    <tr style=\"text-align: right;\">\n",
       "      <th></th>\n",
       "      <th>patient_id</th>\n",
       "      <th>age</th>\n",
       "      <th>gender</th>\n",
       "      <th>diagnosis_code</th>\n",
       "      <th>num_previous_admissions</th>\n",
       "      <th>medication_type</th>\n",
       "      <th>length_of_stay</th>\n",
       "      <th>readmitted_30_days</th>\n",
       "      <th>discharge_note</th>\n",
       "    </tr>\n",
       "  </thead>\n",
       "  <tbody>\n",
       "    <tr>\n",
       "      <th>0</th>\n",
       "      <td>1</td>\n",
       "      <td>71</td>\n",
       "      <td>Male</td>\n",
       "      <td>D002</td>\n",
       "      <td>3</td>\n",
       "      <td>Type C</td>\n",
       "      <td>2</td>\n",
       "      <td>0</td>\n",
       "      <td>Good recovery trajectory. Follow-up scan sched...</td>\n",
       "    </tr>\n",
       "    <tr>\n",
       "      <th>1</th>\n",
       "      <td>2</td>\n",
       "      <td>34</td>\n",
       "      <td>Female</td>\n",
       "      <td>D002</td>\n",
       "      <td>1</td>\n",
       "      <td>Type B</td>\n",
       "      <td>3</td>\n",
       "      <td>1</td>\n",
       "      <td>Stable post-surgery. Advised to avoid physical...</td>\n",
       "    </tr>\n",
       "    <tr>\n",
       "      <th>2</th>\n",
       "      <td>3</td>\n",
       "      <td>80</td>\n",
       "      <td>Male</td>\n",
       "      <td>D002</td>\n",
       "      <td>2</td>\n",
       "      <td>Type C</td>\n",
       "      <td>5</td>\n",
       "      <td>1</td>\n",
       "      <td>Symptoms controlled. Monitoring for relapse ad...</td>\n",
       "    </tr>\n",
       "    <tr>\n",
       "      <th>3</th>\n",
       "      <td>4</td>\n",
       "      <td>40</td>\n",
       "      <td>Female</td>\n",
       "      <td>D002</td>\n",
       "      <td>2</td>\n",
       "      <td>Type C</td>\n",
       "      <td>11</td>\n",
       "      <td>0</td>\n",
       "      <td>Stable post-surgery. Advised to avoid physical...</td>\n",
       "    </tr>\n",
       "    <tr>\n",
       "      <th>4</th>\n",
       "      <td>5</td>\n",
       "      <td>43</td>\n",
       "      <td>Female</td>\n",
       "      <td>D001</td>\n",
       "      <td>1</td>\n",
       "      <td>Type C</td>\n",
       "      <td>8</td>\n",
       "      <td>1</td>\n",
       "      <td>Stable post-surgery. Advised to avoid physical...</td>\n",
       "    </tr>\n",
       "  </tbody>\n",
       "</table>\n",
       "</div>"
      ],
      "text/plain": [
       "   patient_id  age  gender diagnosis_code  num_previous_admissions  \\\n",
       "0           1   71    Male           D002                        3   \n",
       "1           2   34  Female           D002                        1   \n",
       "2           3   80    Male           D002                        2   \n",
       "3           4   40  Female           D002                        2   \n",
       "4           5   43  Female           D001                        1   \n",
       "\n",
       "  medication_type  length_of_stay  readmitted_30_days  \\\n",
       "0          Type C               2                   0   \n",
       "1          Type B               3                   1   \n",
       "2          Type C               5                   1   \n",
       "3          Type C              11                   0   \n",
       "4          Type C               8                   1   \n",
       "\n",
       "                                      discharge_note  \n",
       "0  Good recovery trajectory. Follow-up scan sched...  \n",
       "1  Stable post-surgery. Advised to avoid physical...  \n",
       "2  Symptoms controlled. Monitoring for relapse ad...  \n",
       "3  Stable post-surgery. Advised to avoid physical...  \n",
       "4  Stable post-surgery. Advised to avoid physical...  "
      ]
     },
     "execution_count": 4,
     "metadata": {},
     "output_type": "execute_result"
    }
   ],
   "source": [
    "# View example data\n",
    "data.head()"
   ]
  },
  {
   "cell_type": "code",
   "execution_count": 5,
   "id": "40101c1e",
   "metadata": {},
   "outputs": [
    {
     "name": "stdout",
     "output_type": "stream",
     "text": [
      "<class 'pandas.core.frame.DataFrame'>\n",
      "RangeIndex: 200 entries, 0 to 199\n",
      "Data columns (total 9 columns):\n",
      " #   Column                   Non-Null Count  Dtype \n",
      "---  ------                   --------------  ----- \n",
      " 0   patient_id               200 non-null    int64 \n",
      " 1   age                      200 non-null    int64 \n",
      " 2   gender                   200 non-null    object\n",
      " 3   diagnosis_code           200 non-null    object\n",
      " 4   num_previous_admissions  200 non-null    int64 \n",
      " 5   medication_type          200 non-null    object\n",
      " 6   length_of_stay           200 non-null    int64 \n",
      " 7   readmitted_30_days       200 non-null    int64 \n",
      " 8   discharge_note           200 non-null    object\n",
      "dtypes: int64(5), object(4)\n",
      "memory usage: 14.2+ KB\n"
     ]
    }
   ],
   "source": [
    "# View data types and counts\n",
    "data.info()"
   ]
  },
  {
   "cell_type": "code",
   "execution_count": 6,
   "id": "bde07c3c",
   "metadata": {},
   "outputs": [
    {
     "data": {
      "text/html": [
       "<div>\n",
       "<style scoped>\n",
       "    .dataframe tbody tr th:only-of-type {\n",
       "        vertical-align: middle;\n",
       "    }\n",
       "\n",
       "    .dataframe tbody tr th {\n",
       "        vertical-align: top;\n",
       "    }\n",
       "\n",
       "    .dataframe thead th {\n",
       "        text-align: right;\n",
       "    }\n",
       "</style>\n",
       "<table border=\"1\" class=\"dataframe\">\n",
       "  <thead>\n",
       "    <tr style=\"text-align: right;\">\n",
       "      <th></th>\n",
       "      <th>patient_id</th>\n",
       "      <th>age</th>\n",
       "      <th>num_previous_admissions</th>\n",
       "      <th>length_of_stay</th>\n",
       "      <th>readmitted_30_days</th>\n",
       "    </tr>\n",
       "  </thead>\n",
       "  <tbody>\n",
       "    <tr>\n",
       "      <th>count</th>\n",
       "      <td>200.000000</td>\n",
       "      <td>200.000000</td>\n",
       "      <td>200.000000</td>\n",
       "      <td>200.000000</td>\n",
       "      <td>200.00000</td>\n",
       "    </tr>\n",
       "    <tr>\n",
       "      <th>mean</th>\n",
       "      <td>100.500000</td>\n",
       "      <td>53.720000</td>\n",
       "      <td>1.600000</td>\n",
       "      <td>7.865000</td>\n",
       "      <td>0.32500</td>\n",
       "    </tr>\n",
       "    <tr>\n",
       "      <th>std</th>\n",
       "      <td>57.879185</td>\n",
       "      <td>21.294574</td>\n",
       "      <td>1.310951</td>\n",
       "      <td>4.134276</td>\n",
       "      <td>0.46955</td>\n",
       "    </tr>\n",
       "    <tr>\n",
       "      <th>min</th>\n",
       "      <td>1.000000</td>\n",
       "      <td>20.000000</td>\n",
       "      <td>0.000000</td>\n",
       "      <td>1.000000</td>\n",
       "      <td>0.00000</td>\n",
       "    </tr>\n",
       "    <tr>\n",
       "      <th>25%</th>\n",
       "      <td>50.750000</td>\n",
       "      <td>34.000000</td>\n",
       "      <td>1.000000</td>\n",
       "      <td>4.000000</td>\n",
       "      <td>0.00000</td>\n",
       "    </tr>\n",
       "    <tr>\n",
       "      <th>50%</th>\n",
       "      <td>100.500000</td>\n",
       "      <td>54.000000</td>\n",
       "      <td>1.000000</td>\n",
       "      <td>8.000000</td>\n",
       "      <td>0.00000</td>\n",
       "    </tr>\n",
       "    <tr>\n",
       "      <th>75%</th>\n",
       "      <td>150.250000</td>\n",
       "      <td>73.000000</td>\n",
       "      <td>2.000000</td>\n",
       "      <td>11.000000</td>\n",
       "      <td>1.00000</td>\n",
       "    </tr>\n",
       "    <tr>\n",
       "      <th>max</th>\n",
       "      <td>200.000000</td>\n",
       "      <td>89.000000</td>\n",
       "      <td>6.000000</td>\n",
       "      <td>14.000000</td>\n",
       "      <td>1.00000</td>\n",
       "    </tr>\n",
       "  </tbody>\n",
       "</table>\n",
       "</div>"
      ],
      "text/plain": [
       "       patient_id         age  num_previous_admissions  length_of_stay  \\\n",
       "count  200.000000  200.000000               200.000000      200.000000   \n",
       "mean   100.500000   53.720000                 1.600000        7.865000   \n",
       "std     57.879185   21.294574                 1.310951        4.134276   \n",
       "min      1.000000   20.000000                 0.000000        1.000000   \n",
       "25%     50.750000   34.000000                 1.000000        4.000000   \n",
       "50%    100.500000   54.000000                 1.000000        8.000000   \n",
       "75%    150.250000   73.000000                 2.000000       11.000000   \n",
       "max    200.000000   89.000000                 6.000000       14.000000   \n",
       "\n",
       "       readmitted_30_days  \n",
       "count           200.00000  \n",
       "mean              0.32500  \n",
       "std               0.46955  \n",
       "min               0.00000  \n",
       "25%               0.00000  \n",
       "50%               0.00000  \n",
       "75%               1.00000  \n",
       "max               1.00000  "
      ]
     },
     "execution_count": 6,
     "metadata": {},
     "output_type": "execute_result"
    }
   ],
   "source": [
    "# View summary statistics for numeric columns\n",
    "data.describe()"
   ]
  },
  {
   "cell_type": "code",
   "execution_count": 7,
   "id": "59cfd5c0",
   "metadata": {},
   "outputs": [
    {
     "data": {
      "text/plain": [
       "200"
      ]
     },
     "execution_count": 7,
     "metadata": {},
     "output_type": "execute_result"
    }
   ],
   "source": [
    "# Check if each row has a unique patient ID\n",
    "len(data['patient_id'].unique())"
   ]
  },
  {
   "cell_type": "code",
   "execution_count": 8,
   "id": "bd4583b9",
   "metadata": {},
   "outputs": [
    {
     "data": {
      "text/plain": [
       "readmitted_30_days\n",
       "0    0.675\n",
       "1    0.325\n",
       "Name: proportion, dtype: float64"
      ]
     },
     "execution_count": 8,
     "metadata": {},
     "output_type": "execute_result"
    }
   ],
   "source": [
    "# Check class imbalance in the label column\n",
    "data['readmitted_30_days'].value_counts(normalize=True)"
   ]
  },
  {
   "cell_type": "code",
   "execution_count": 9,
   "id": "a67448ce",
   "metadata": {},
   "outputs": [
    {
     "data": {
      "text/plain": [
       "array(['Male', 'Female'], dtype=object)"
      ]
     },
     "execution_count": 9,
     "metadata": {},
     "output_type": "execute_result"
    }
   ],
   "source": [
    "# Find out unique values for 'gender' column\n",
    "data['gender'].unique()"
   ]
  },
  {
   "cell_type": "code",
   "execution_count": 10,
   "id": "08f1c0c9",
   "metadata": {},
   "outputs": [
    {
     "data": {
      "text/plain": [
       "array(['D002', 'D001', 'D004', 'D003'], dtype=object)"
      ]
     },
     "execution_count": 10,
     "metadata": {},
     "output_type": "execute_result"
    }
   ],
   "source": [
    "# Find out unique values of 'diagnosis_code' column\n",
    "data['diagnosis_code'].unique()"
   ]
  },
  {
   "cell_type": "code",
   "execution_count": 11,
   "id": "6cbb55f0",
   "metadata": {},
   "outputs": [
    {
     "data": {
      "text/plain": [
       "array(['Type C', 'Type B', 'Type A'], dtype=object)"
      ]
     },
     "execution_count": 11,
     "metadata": {},
     "output_type": "execute_result"
    }
   ],
   "source": [
    "# Find out unique values of the 'medication_type' column\n",
    "data['medication_type'].unique()"
   ]
  },
  {
   "cell_type": "code",
   "execution_count": 12,
   "id": "532ec125",
   "metadata": {},
   "outputs": [
    {
     "data": {
      "text/plain": [
       "array(['Good recovery trajectory. Follow-up scan scheduled next month.',\n",
       "       'Stable post-surgery. Advised to avoid physical exertion.',\n",
       "       'Symptoms controlled. Monitoring for relapse advised.',\n",
       "       'Discharge after recovery from pneumonia. No complications observed.',\n",
       "       'Patient discharged in stable condition. Recommend follow-up in 2 weeks.',\n",
       "       'Patient showed improvement. Prescribed antibiotics for 5 days.',\n",
       "       'Blood pressure under control. Continue current medication.',\n",
       "       'Patient discharged with minor discomfort. Advised rest and hydration.',\n",
       "       'No further signs of infection. Resume normal diet and activity.',\n",
       "       'Mild reaction to medication. Switched to alternative treatment.'],\n",
       "      dtype=object)"
      ]
     },
     "execution_count": 12,
     "metadata": {},
     "output_type": "execute_result"
    }
   ],
   "source": [
    "# Find out unique values of the 'diacharge_note' column\n",
    "data['discharge_note'].unique()"
   ]
  },
  {
   "cell_type": "markdown",
   "id": "a255ec6a",
   "metadata": {},
   "source": [
    "All of the patient_ids are unique. There is no data on admission/discharge time to allow temporal validation. There is class imbalance in the label, but it is not extreme (67.5% not readmitted within 30 days/32.5% readmitted within 30 days). Therefore I split the data into training and test set randomly, but stratified by the label column so the training and test sets have approximately equal ratios of labels. \n",
    "\n",
    "Values for age, num_previous_admissions, length_of_stay all have no missing values and are in reasonable ranges (e.g. no negative values, highest age 89 years). The categorical features have no missing values and are all low cardinality.\n",
    "\n",
    "I conducted the remaining EDA on the training set only to avoid data leakage."
   ]
  },
  {
   "cell_type": "code",
   "execution_count": 13,
   "id": "66e14695",
   "metadata": {},
   "outputs": [],
   "source": [
    "# Split the data into training and test sets\n",
    "test_size = 0.2\n",
    "target_column = 'readmitted_30_days'\n",
    "\n",
    "train_data, test_data = train_test_split(\n",
    "    data.set_index('patient_id'),\n",
    "    test_size=test_size,\n",
    "    random_state=SEED\n",
    ")\n",
    "\n",
    "X_train = train_data.drop(columns=[target_column])\n",
    "y_train = train_data.loc[:,target_column]\n",
    "X_test = test_data.drop(columns=[target_column])\n",
    "y_test = test_data.loc[:, target_column]"
   ]
  },
  {
   "cell_type": "markdown",
   "id": "264553df",
   "metadata": {},
   "source": [
    "### EDA on training data"
   ]
  },
  {
   "cell_type": "markdown",
   "id": "622d021b",
   "metadata": {},
   "source": [
    "#### Numeric features"
   ]
  },
  {
   "cell_type": "code",
   "execution_count": 14,
   "id": "4ec9fd81",
   "metadata": {},
   "outputs": [
    {
     "data": {
      "text/plain": [
       "<Axes: xlabel='length_of_stay', ylabel='Count'>"
      ]
     },
     "execution_count": 14,
     "metadata": {},
     "output_type": "execute_result"
    },
    {
     "data": {
      "image/png": "[encoded data removed]",
      "text/plain": [
       "<Figure size 1800x500 with 3 Axes>"
      ]
     },
     "metadata": {},
     "output_type": "display_data"
    }
   ],
   "source": [
    "# Plot histograms of numeric features\n",
    "fig, axes = plt.subplots(1, 3, figsize=(18, 5))\n",
    "fig.suptitle('Distribution of numeric features')\n",
    "sns.histplot(train_data['age'], bins=range(20,95,5), ax=axes[0])\n",
    "sns.histplot(train_data['num_previous_admissions'], bins=range(0,7,1), ax=axes[1])\n",
    "sns.histplot(train_data['length_of_stay'], bins=range(1,16,1), ax=axes[2])"
   ]
  },
  {
   "cell_type": "code",
   "execution_count": 15,
   "id": "2e9b6400",
   "metadata": {},
   "outputs": [
    {
     "data": {
      "text/plain": [
       "<Axes: xlabel='length_of_stay', ylabel='Count'>"
      ]
     },
     "execution_count": 15,
     "metadata": {},
     "output_type": "execute_result"
    },
    {
     "data": {
      "image/png": "[encoded data removed]",
      "text/plain": [
       "<Figure size 1800x500 with 3 Axes>"
      ]
     },
     "metadata": {},
     "output_type": "display_data"
    }
   ],
   "source": [
    "# Plot histograms of numeric features split by readmission label\n",
    "train_readmitted = train_data[train_data[target_column] == 1]\n",
    "train_not_readmitted = train_data[train_data[target_column] == 0]\n",
    "fig, axes = plt.subplots(1, 3, figsize=(18, 5))\n",
    "fig.suptitle('Distribution of numeric features by readmission label')\n",
    "sns.histplot(data=train_data, x='age', bins=range(20,95,5), ax=axes[0], hue='readmitted_30_days')\n",
    "sns.histplot(data=train_data, x='num_previous_admissions', bins=range(0,7,1), ax=axes[1], hue='readmitted_30_days', legend=False)\n",
    "sns.histplot(data=train_data, x='length_of_stay', bins=range(1,16,1), ax=axes[2], hue='readmitted_30_days', legend=False)"
   ]
  },
  {
   "cell_type": "markdown",
   "id": "54eea45c",
   "metadata": {},
   "source": [
    "There is some information relevant to readmission in individual numeric features - for example, a majority of patients between 20-25 were readmitted, compared to a very low percentage between 30-60 years old, and a higher proportion of patients with 0 previous admissions were admitted than for patients with more prevous admissions.\n",
    "\n",
    "The relationship between age and the need for readmission is clearly not monotonic."
   ]
  },
  {
   "cell_type": "markdown",
   "id": "007fc2e3",
   "metadata": {},
   "source": [
    "#### Categorical features"
   ]
  },
  {
   "cell_type": "code",
   "execution_count": 16,
   "id": "b8803003",
   "metadata": {},
   "outputs": [
    {
     "data": {
      "text/plain": [
       "<Axes: xlabel='medication_type', ylabel='count'>"
      ]
     },
     "execution_count": 16,
     "metadata": {},
     "output_type": "execute_result"
    },
    {
     "data": {
      "image/png": "[encoded data removed]",
      "text/plain": [
       "<Figure size 1800x500 with 3 Axes>"
      ]
     },
     "metadata": {},
     "output_type": "display_data"
    }
   ],
   "source": [
    "# Plot bar charts showing the count of each level of the categorical features\n",
    "fig, axes = plt.subplots(1, 3, figsize=(18, 5))\n",
    "fig.suptitle('Distribution of categorical features')\n",
    "sns.barplot(train_data['gender'].value_counts(), ax=axes[0], width=0.5)\n",
    "sns.barplot(train_data['diagnosis_code'].value_counts(), ax=axes[1], order=['D001', 'D002', 'D003', 'D004'], width=0.5)\n",
    "sns.barplot(train_data['medication_type'].value_counts(), ax=axes[2], order=['Type A', 'Type B', 'Type C'], width=0.5)"
   ]
  },
  {
   "cell_type": "code",
   "execution_count": 17,
   "id": "2b34c5dd",
   "metadata": {},
   "outputs": [
    {
     "data": {
      "text/plain": [
       "Text(0, 0.5, 'proportion')"
      ]
     },
     "execution_count": 17,
     "metadata": {},
     "output_type": "execute_result"
    },
    {
     "data": {
      "image/png": "[encoded data removed]",
      "text/plain": [
       "<Figure size 1800x500 with 3 Axes>"
      ]
     },
     "metadata": {},
     "output_type": "display_data"
    }
   ],
   "source": [
    "# Plot stacked bar charts showing the proportion of readmissions within 30 days for each level of the categorical features\n",
    "fig, axes = plt.subplots(1, 3, figsize=(18, 5))\n",
    "fig.suptitle('Proportion readmitted within 30 days for each level of the categorical features')\n",
    "train_data.groupby('gender')['readmitted_30_days'].value_counts(normalize=True).unstack().plot(kind='bar', stacked=True, ax=axes[0], rot=0)\n",
    "train_data.groupby('diagnosis_code')['readmitted_30_days'].value_counts(normalize=True).unstack().plot(kind='bar', stacked=True, ax=axes[1], rot=0, legend=False)\n",
    "train_data.groupby('medication_type')['readmitted_30_days'].value_counts(normalize=True).unstack().plot(kind='bar', stacked=True, ax=axes[2], rot=0, legend=False)\n",
    "\n",
    "# Calculate the base proportion not readmitted within 30 days and add it as a horizontal line for reference\n",
    "base_rate = train_data['readmitted_30_days'].value_counts(normalize=True)[0]\n",
    "axes[0].axhline(y=base_rate, linestyle='--', color='grey', label='Base rate not readmitted')\n",
    "axes[1].axhline(y=base_rate, linestyle='--', color='grey')\n",
    "axes[2].axhline(y=base_rate, linestyle='--', color='grey')\n",
    "\n",
    "axes[0].set_ylabel('proportion')\n",
    "axes[1].set_ylabel('proportion')\n",
    "axes[2].set_ylabel('proportion')"
   ]
  },
  {
   "cell_type": "markdown",
   "id": "3726ed1a",
   "metadata": {},
   "source": [
    "There is also information relevant to readmission in some individual categorical features. For example a patient with diagnosis_code D003 or medication_type Type B is more likely to be readmitted within 30 days than baseline. A patient with diagnosis_code D002 or medication_type Type A is more likely to be readmitted within 30 days than baseline. Sex alone does not appear to be informative about whether a patient will be readmitted (but may be informative in combination with some other features(s)). "
   ]
  },
  {
   "cell_type": "markdown",
   "id": "a59f4a35",
   "metadata": {},
   "source": [
    "#### Free text (discharge note)"
   ]
  },
  {
   "cell_type": "code",
   "execution_count": 18,
   "id": "e1aef3a7",
   "metadata": {},
   "outputs": [
    {
     "data": {
      "text/plain": [
       "discharge_note\n",
       "Blood pressure under control. Continue current medication.                 20\n",
       "Patient discharged in stable condition. Recommend follow-up in 2 weeks.    20\n",
       "Discharge after recovery from pneumonia. No complications observed.        19\n",
       "Patient discharged with minor discomfort. Advised rest and hydration.      18\n",
       "Stable post-surgery. Advised to avoid physical exertion.                   16\n",
       "Symptoms controlled. Monitoring for relapse advised.                       16\n",
       "Good recovery trajectory. Follow-up scan scheduled next month.             14\n",
       "No further signs of infection. Resume normal diet and activity.            13\n",
       "Mild reaction to medication. Switched to alternative treatment.            12\n",
       "Patient showed improvement. Prescribed antibiotics for 5 days.             12\n",
       "Name: count, dtype: int64"
      ]
     },
     "execution_count": 18,
     "metadata": {},
     "output_type": "execute_result"
    }
   ],
   "source": [
    "# View the unique discarge notes and their counts\n",
    "train_data['discharge_note'].value_counts()"
   ]
  },
  {
   "cell_type": "code",
   "execution_count": 19,
   "id": "577fd700",
   "metadata": {},
   "outputs": [
    {
     "data": {
      "text/plain": [
       "discharge_note                                                           readmitted_30_days\n",
       "Blood pressure under control. Continue current medication.               1                     0.550000\n",
       "                                                                         0                     0.450000\n",
       "Discharge after recovery from pneumonia. No complications observed.      0                     0.684211\n",
       "                                                                         1                     0.315789\n",
       "Good recovery trajectory. Follow-up scan scheduled next month.           0                     0.642857\n",
       "                                                                         1                     0.357143\n",
       "Mild reaction to medication. Switched to alternative treatment.          0                     0.750000\n",
       "                                                                         1                     0.250000\n",
       "No further signs of infection. Resume normal diet and activity.          0                     0.846154\n",
       "                                                                         1                     0.153846\n",
       "Patient discharged in stable condition. Recommend follow-up in 2 weeks.  0                     0.700000\n",
       "                                                                         1                     0.300000\n",
       "Patient discharged with minor discomfort. Advised rest and hydration.    0                     0.833333\n",
       "                                                                         1                     0.166667\n",
       "Patient showed improvement. Prescribed antibiotics for 5 days.           0                     0.666667\n",
       "                                                                         1                     0.333333\n",
       "Stable post-surgery. Advised to avoid physical exertion.                 0                     0.750000\n",
       "                                                                         1                     0.250000\n",
       "Symptoms controlled. Monitoring for relapse advised.                     0                     0.500000\n",
       "                                                                         1                     0.500000\n",
       "Name: proportion, dtype: float64"
      ]
     },
     "execution_count": 19,
     "metadata": {},
     "output_type": "execute_result"
    }
   ],
   "source": [
    "# View the proportion of readmissions within 30 days for each unique discharge note\n",
    "train_data.groupby('discharge_note')['readmitted_30_days'].value_counts(normalize=True)"
   ]
  },
  {
   "cell_type": "markdown",
   "id": "11b1c9ff",
   "metadata": {},
   "source": [
    "There are 10 unique discharge notes, and they appear to be informative on their own about readmission. Some discharge notes, for example <i>\"Blood pressure under control. Continue current medication.\"</i> and <i>\"Symptoms controlled. Monitoring for relapse advised.\"</i> are associated with higher than baselines rates of readmission, while others (e.g. <i>\"No further signs of infection. Resume normal diet and activity.\"</i> and <i>\"Patient discharged with minor discomfort. Advised rest and hydration.\"</i>) are associated with lower than baseline (0.675) rates of readmission.\n",
    "\n",
    "Given the low cardinality, these discharge notes could be treated as a categorical and one-hot encoded. However, they do not read like (for example) options from a drop down list and are described as \"free-text\" in the assigment briefing. Therefore, given predictive value based on the breakdown above, I decided to generate features based on the free-text using TF-IDF - this will give one feature per word (except for stop-words which will be removed). The vocabulary is relatively small, so this seems reasonable for the current data. For a larger corpus, with a larger vocabulary, dimensionality reduction could subsequently be applied to the TF-IDF features. "
   ]
  },
  {
   "cell_type": "markdown",
   "id": "fa6500f8",
   "metadata": {},
   "source": [
    "### Define classification model pipeline"
   ]
  },
  {
   "cell_type": "markdown",
   "id": "c8c0daa8",
   "metadata": {},
   "source": [
    "I selected a random forest classifier because it is a simple model that often provides a good baseline for tabular data tasks. Additionally, I identified that there is not a monotonic relationship between age and the probability of admission (also potentially length_of_stay) - this means than an alternative simple baseline, logistic regression, would require more manual feature engineering to make proper use of these features (e.g. age > 30, age < 70) while random forest will find such splits automatically if they are useful. \n",
    "\n",
    "There is no benefit to scaling numeric features when using a random forest, and no missing data to impute, so numeric features are passed through the preprocessing pipeline unchanged.\n",
    "\n",
    "All of the categorical features are low cardinality, and are therefore one-hot encoded. There is no missing data to impute.\n",
    "\n",
    "As described above, TF-IDF features are created for the free-test discharge notes (with English stop words removed first)."
   ]
  },
  {
   "cell_type": "code",
   "execution_count": 20,
   "id": "376c567c",
   "metadata": {},
   "outputs": [],
   "source": [
    "# Lists of feature column by type, each preprocessed differently\n",
    "numeric_feature_cols = ['age', 'num_previous_admissions', 'length_of_stay']\n",
    "categorical_feature_cols = ['gender', 'diagnosis_code', 'medication_type']\n",
    "note_col = ['discharge_note']\n",
    "\n",
    "\n",
    "def make_pipeline(hyperparameters: dict, numeric_feature_cols: list = numeric_feature_cols, categorical_feature_cols: list = categorical_feature_cols, note_col: list = note_col) -> Pipeline:\n",
    "    \"\"\"Make a scikit-learn pipeline for readmission prediction, incluidng preprocessing steps\"\"\"\n",
    "\n",
    "    # Numeric features passed through without transformation\n",
    "    numeric_transformer = Pipeline(steps=[(\"passthrough\", FunctionTransformer(func=lambda x: x, feature_names_out=\"one-to-one\"))])\n",
    "\n",
    "    # Categorical features one-hot encoded\n",
    "    categorical_transformer = Pipeline(\n",
    "            steps=[\n",
    "                (\n",
    "                    \"one_hot\",\n",
    "                    OneHotEncoder(handle_unknown=\"ignore\", categories=\"auto\"),\n",
    "                )\n",
    "            ]\n",
    "        )\n",
    "\n",
    "    # Text features represented using TF-IDF, with stop words removed\n",
    "    text_transformer = Pipeline(steps=[(\"single_column\", FunctionTransformer(lambda x: x[note_col[0]], feature_names_out=\"one-to-one\")),\n",
    "    (\"tfidf\", TfidfVectorizer(stop_words=\"english\"))])\n",
    "\n",
    "    preprocessor = ColumnTransformer(\n",
    "            transformers=[\n",
    "            (\"num\", numeric_transformer, numeric_feature_cols),\n",
    "            (\"cat\", categorical_transformer, categorical_feature_cols),\n",
    "            (\"note\", text_transformer, note_col),\n",
    "            ], \n",
    "        )\n",
    "\n",
    "    classifier = RandomForestClassifier()\n",
    "\n",
    "    model_pipeline = Pipeline(\n",
    "        steps=[(\"preprocessor\", preprocessor), (\"clf\", classifier)]\n",
    "    )\n",
    "    model_pipeline.set_params(**hyperparameters)\n",
    "\n",
    "    return model_pipeline"
   ]
  },
  {
   "cell_type": "markdown",
   "id": "22b50205",
   "metadata": {},
   "source": [
    "### Tune hyperparameters using cross-validation"
   ]
  },
  {
   "cell_type": "markdown",
   "id": "ed175646",
   "metadata": {},
   "source": [
    "I ran 5-fold cross-validation using stratified folds (so each fold has approximately the same proportion of positive and negative examples). I used F1-score to evaluate performance, balancing precision and recall because we don't know how the prediction will be used or have any information about the relative costs of errors in either direction.\n",
    "\n",
    "Candidate hyperparameters are selected based on the performance of previous trials using Bayesian optimization (with Optuna's default TPESampler).\n",
    "\n",
    "Hyperparameter tuning is logged with mlflow so the results can be inspected. This code uses local file storage to record the runs, and the mlflow browser UI can be used to view the results by running the terminal command `mlflow ui` in the directory where this notebook was run."
   ]
  },
  {
   "cell_type": "code",
   "execution_count": 21,
   "id": "3ef3dcd7",
   "metadata": {},
   "outputs": [
    {
     "data": {
      "text/plain": [
       "<Experiment: artifact_location='file:///home/joefarrington/careers/rldatix/mlruns/989616051324397236', creation_time=1748970725114, experiment_id='989616051324397236', last_update_time=1748970725114, lifecycle_stage='active', name='readmission_prediction_tuning', tags={}>"
      ]
     },
     "execution_count": 21,
     "metadata": {},
     "output_type": "execute_result"
    }
   ],
   "source": [
    "# Create mlflow experiment if it doesn't already exist\n",
    "experiment_name = \"readmission_prediction_tuning\"\n",
    "if mlflow.get_experiment_by_name(experiment_name) is not None:\n",
    "    experiment_id = mlflow.get_experiment_by_name(experiment_name).experiment_id\n",
    "else:\n",
    "    experiment_id = mlflow.create_experiment(experiment_name)\n",
    "mlflow.set_experiment(experiment_name)"
   ]
  },
  {
   "cell_type": "code",
   "execution_count": 22,
   "id": "343a7d6a",
   "metadata": {},
   "outputs": [],
   "source": [
    "def objective(trial: optuna.Trial) -> float:\n",
    "    \"\"\"Objective function for hyperparameter optimization using Optuna.\"\"\"\n",
    "    with mlflow.start_run(nested=True):\n",
    "    \n",
    "        # Sample hyperparameters for this trial\n",
    "        hyperparameters = {\n",
    "            \"clf__max_depth\": trial.suggest_categorical(\"clf__max_depth\", [2, 4, 6, 12, None]),\n",
    "            \"clf__n_estimators\": trial.suggest_int(\"clf__n_estimators\", low=200, high=1000, step=200),\n",
    "            \"clf__max_features\": trial.suggest_categorical(\"clf__max_features\", [\"sqrt\", \"log2\", None]),\n",
    "            \"clf__class_weight\": trial.suggest_categorical(\"clf__class_weight\", [\"balanced\", None]),\n",
    "            \"clf__min_samples_split\": trial.suggest_int(\"clf__min_samples_split\", low=2, high=20),\n",
    "            \"clf__min_samples_leaf\": trial.suggest_int(\"clf__min_samples_leaf\", low=1, high=10),\n",
    "            \"clf__random_state\": SEED,\n",
    "        }\n",
    "        # Run stratified 5-fold cross-validation and return the mean ROC AUC score\n",
    "        model_pipeline = make_pipeline(hyperparameters)\n",
    "        skf = StratifiedKFold(n_splits=5, shuffle=True, random_state=SEED)\n",
    "        scores = cross_val_score(model_pipeline, X_train, y_train, cv=skf, scoring='f1', n_jobs=-1)\n",
    "        \n",
    "        # Log the hyperparamters and score to mlflow\n",
    "        mlflow.log_params(hyperparameters)\n",
    "        mlflow.log_metric(\"mean_f1_score\", scores.mean())\n",
    "\n",
    "    return scores.mean()"
   ]
  },
  {
   "cell_type": "code",
   "execution_count": 24,
   "id": "a0a6e310",
   "metadata": {},
   "outputs": [
    {
     "name": "stderr",
     "output_type": "stream",
     "text": [
      "[I 2025-06-04 21:40:08,557] A new study created in memory with name: no-name-7cf3aeb0-a83c-4ca2-bb6d-8a1319786443\n"
     ]
    },
    {
     "name": "stderr",
     "output_type": "stream",
     "text": [
      "[I 2025-06-04 21:40:10,244] Trial 0 finished with value: 0.4058266879319511 and parameters: {'clf__max_depth': 12, 'clf__n_estimators': 800, 'clf__max_features': 'sqrt', 'clf__class_weight': 'balanced', 'clf__min_samples_split': 16, 'clf__min_samples_leaf': 5}. Best is trial 0 with value: 0.4058266879319511.\n",
      "[I 2025-06-04 21:40:11,582] Trial 1 finished with value: 0.42365079365079367 and parameters: {'clf__max_depth': 4, 'clf__n_estimators': 800, 'clf__max_features': 'log2', 'clf__class_weight': 'balanced', 'clf__min_samples_split': 8, 'clf__min_samples_leaf': 2}. Best is trial 1 with value: 0.42365079365079367.\n",
      "[I 2025-06-04 21:40:12,585] Trial 2 finished with value: 0.4185964912280702 and parameters: {'clf__max_depth': 4, 'clf__n_estimators': 400, 'clf__max_features': 'log2', 'clf__class_weight': 'balanced', 'clf__min_samples_split': 11, 'clf__min_samples_leaf': 7}. Best is trial 1 with value: 0.42365079365079367.\n",
      "[I 2025-06-04 21:40:13,400] Trial 3 finished with value: 0.4246867167919799 and parameters: {'clf__max_depth': 2, 'clf__n_estimators': 200, 'clf__max_features': 'log2', 'clf__class_weight': 'balanced', 'clf__min_samples_split': 16, 'clf__min_samples_leaf': 5}. Best is trial 3 with value: 0.4246867167919799.\n",
      "[I 2025-06-04 21:40:14,708] Trial 4 finished with value: 0.0 and parameters: {'clf__max_depth': None, 'clf__n_estimators': 800, 'clf__max_features': 'sqrt', 'clf__class_weight': None, 'clf__min_samples_split': 19, 'clf__min_samples_leaf': 9}. Best is trial 3 with value: 0.4246867167919799.\n",
      "[I 2025-06-04 21:40:14,953] Trial 5 finished with value: 0.4201989823042454 and parameters: {'clf__max_depth': None, 'clf__n_estimators': 200, 'clf__max_features': 'log2', 'clf__class_weight': 'balanced', 'clf__min_samples_split': 14, 'clf__min_samples_leaf': 5}. Best is trial 3 with value: 0.4246867167919799.\n",
      "[I 2025-06-04 21:40:15,399] Trial 6 finished with value: 0.40705804916331234 and parameters: {'clf__max_depth': 6, 'clf__n_estimators': 400, 'clf__max_features': None, 'clf__class_weight': 'balanced', 'clf__min_samples_split': 2, 'clf__min_samples_leaf': 9}. Best is trial 3 with value: 0.4246867167919799.\n",
      "[I 2025-06-04 21:40:16,359] Trial 7 finished with value: 0.4032138316806509 and parameters: {'clf__max_depth': 6, 'clf__n_estimators': 1000, 'clf__max_features': 'log2', 'clf__class_weight': 'balanced', 'clf__min_samples_split': 3, 'clf__min_samples_leaf': 2}. Best is trial 3 with value: 0.4246867167919799.\n",
      "[I 2025-06-04 21:40:17,270] Trial 8 finished with value: 0.0 and parameters: {'clf__max_depth': None, 'clf__n_estimators': 1000, 'clf__max_features': 'log2', 'clf__class_weight': None, 'clf__min_samples_split': 14, 'clf__min_samples_leaf': 9}. Best is trial 3 with value: 0.4246867167919799.\n",
      "[I 2025-06-04 21:40:17,989] Trial 9 finished with value: 0.35891546362134596 and parameters: {'clf__max_depth': 2, 'clf__n_estimators': 800, 'clf__max_features': 'sqrt', 'clf__class_weight': 'balanced', 'clf__min_samples_split': 8, 'clf__min_samples_leaf': 9}. Best is trial 3 with value: 0.4246867167919799.\n",
      "[I 2025-06-04 21:40:18,231] Trial 10 finished with value: 0.1063994828700711 and parameters: {'clf__max_depth': 2, 'clf__n_estimators': 200, 'clf__max_features': None, 'clf__class_weight': None, 'clf__min_samples_split': 20, 'clf__min_samples_leaf': 4}. Best is trial 3 with value: 0.4246867167919799.\n",
      "[I 2025-06-04 21:40:18,798] Trial 11 finished with value: 0.40507936507936504 and parameters: {'clf__max_depth': 4, 'clf__n_estimators': 600, 'clf__max_features': 'log2', 'clf__class_weight': 'balanced', 'clf__min_samples_split': 8, 'clf__min_samples_leaf': 1}. Best is trial 3 with value: 0.4246867167919799.\n",
      "[I 2025-06-04 21:40:19,373] Trial 12 finished with value: 0.42412698412698413 and parameters: {'clf__max_depth': 4, 'clf__n_estimators': 600, 'clf__max_features': 'log2', 'clf__class_weight': 'balanced', 'clf__min_samples_split': 7, 'clf__min_samples_leaf': 3}. Best is trial 3 with value: 0.4246867167919799.\n",
      "[I 2025-06-04 21:40:19,746] Trial 13 finished with value: 0.4373142342021061 and parameters: {'clf__max_depth': 2, 'clf__n_estimators': 400, 'clf__max_features': 'log2', 'clf__class_weight': 'balanced', 'clf__min_samples_split': 11, 'clf__min_samples_leaf': 3}. Best is trial 13 with value: 0.4373142342021061.\n",
      "[I 2025-06-04 21:40:20,159] Trial 14 finished with value: 0.0 and parameters: {'clf__max_depth': 2, 'clf__n_estimators': 400, 'clf__max_features': 'log2', 'clf__class_weight': None, 'clf__min_samples_split': 12, 'clf__min_samples_leaf': 7}. Best is trial 13 with value: 0.4373142342021061.\n",
      "[I 2025-06-04 21:40:20,381] Trial 15 finished with value: 0.41424738316379184 and parameters: {'clf__max_depth': 2, 'clf__n_estimators': 200, 'clf__max_features': None, 'clf__class_weight': 'balanced', 'clf__min_samples_split': 17, 'clf__min_samples_leaf': 6}. Best is trial 13 with value: 0.4373142342021061.\n",
      "[I 2025-06-04 21:40:20,789] Trial 16 finished with value: 0.4373142342021061 and parameters: {'clf__max_depth': 2, 'clf__n_estimators': 400, 'clf__max_features': 'log2', 'clf__class_weight': 'balanced', 'clf__min_samples_split': 12, 'clf__min_samples_leaf': 4}. Best is trial 13 with value: 0.4373142342021061.\n",
      "[I 2025-06-04 21:40:21,193] Trial 17 finished with value: 0.40278195488721796 and parameters: {'clf__max_depth': 12, 'clf__n_estimators': 400, 'clf__max_features': 'log2', 'clf__class_weight': 'balanced', 'clf__min_samples_split': 11, 'clf__min_samples_leaf': 3}. Best is trial 13 with value: 0.4373142342021061.\n",
      "[I 2025-06-04 21:40:21,794] Trial 18 finished with value: 0.03333333333333333 and parameters: {'clf__max_depth': 2, 'clf__n_estimators': 600, 'clf__max_features': 'sqrt', 'clf__class_weight': None, 'clf__min_samples_split': 13, 'clf__min_samples_leaf': 3}. Best is trial 13 with value: 0.4373142342021061.\n",
      "[I 2025-06-04 21:40:22,245] Trial 19 finished with value: 0.36424242424242426 and parameters: {'clf__max_depth': 2, 'clf__n_estimators': 400, 'clf__max_features': None, 'clf__class_weight': 'balanced', 'clf__min_samples_split': 6, 'clf__min_samples_leaf': 1}. Best is trial 13 with value: 0.4373142342021061.\n",
      "[I 2025-06-04 21:40:22,629] Trial 20 finished with value: 0.4373142342021061 and parameters: {'clf__max_depth': 2, 'clf__n_estimators': 400, 'clf__max_features': 'log2', 'clf__class_weight': 'balanced', 'clf__min_samples_split': 10, 'clf__min_samples_leaf': 4}. Best is trial 13 with value: 0.4373142342021061.\n",
      "[I 2025-06-04 21:40:23,054] Trial 21 finished with value: 0.4373142342021061 and parameters: {'clf__max_depth': 2, 'clf__n_estimators': 400, 'clf__max_features': 'log2', 'clf__class_weight': 'balanced', 'clf__min_samples_split': 10, 'clf__min_samples_leaf': 4}. Best is trial 13 with value: 0.4373142342021061.\n",
      "[I 2025-06-04 21:40:23,654] Trial 22 finished with value: 0.43441683919944785 and parameters: {'clf__max_depth': 2, 'clf__n_estimators': 600, 'clf__max_features': 'log2', 'clf__class_weight': 'balanced', 'clf__min_samples_split': 5, 'clf__min_samples_leaf': 4}. Best is trial 13 with value: 0.4373142342021061.\n",
      "[I 2025-06-04 21:40:24,070] Trial 23 finished with value: 0.42128146453089244 and parameters: {'clf__max_depth': 2, 'clf__n_estimators': 400, 'clf__max_features': 'log2', 'clf__class_weight': 'balanced', 'clf__min_samples_split': 10, 'clf__min_samples_leaf': 6}. Best is trial 13 with value: 0.4373142342021061.\n",
      "[I 2025-06-04 21:40:24,655] Trial 24 finished with value: 0.3911670480549199 and parameters: {'clf__max_depth': 12, 'clf__n_estimators': 600, 'clf__max_features': 'log2', 'clf__class_weight': 'balanced', 'clf__min_samples_split': 10, 'clf__min_samples_leaf': 2}. Best is trial 13 with value: 0.4373142342021061.\n"
     ]
    }
   ],
   "source": [
    "# Number of trials to run for hyperparameter tuning\n",
    "n_trials = 25\n",
    "\n",
    "# Run hyperparamter tuning and log results with mlflow\n",
    "with mlflow.start_run():\n",
    "    study = optuna.create_study(direction=\"maximize\", sampler=optuna.samplers.TPESampler(seed=SEED)) # Seed sampler for reproducibility\n",
    "    study.optimize(objective, n_trials=n_trials)\n",
    "    mlflow.log_params(study.best_params)\n",
    "    mlflow.log_metric(\"best_f1_score\", study.best_value)"
   ]
  },
  {
   "cell_type": "code",
   "execution_count": 25,
   "id": "4be6f4f6",
   "metadata": {},
   "outputs": [
    {
     "data": {
      "text/plain": [
       "{'clf__max_depth': 2,\n",
       " 'clf__n_estimators': 400,\n",
       " 'clf__max_features': 'log2',\n",
       " 'clf__class_weight': 'balanced',\n",
       " 'clf__min_samples_split': 11,\n",
       " 'clf__min_samples_leaf': 3}"
      ]
     },
     "execution_count": 25,
     "metadata": {},
     "output_type": "execute_result"
    }
   ],
   "source": [
    "# Print the values of the hyperparameters that achieved the highest mean ROC AUC score over the CV folds\n",
    "study.best_params"
   ]
  },
  {
   "cell_type": "markdown",
   "id": "59a24395",
   "metadata": {},
   "source": [
    "### Train model with best identified hyperparameters"
   ]
  },
  {
   "cell_type": "code",
   "execution_count": 26,
   "id": "d62eb59c",
   "metadata": {},
   "outputs": [
    {
     "data": {
      "text/html": [
       "<style>#sk-container-id-1 {\n",
       "  /* Definition of color scheme common for light and dark mode */\n",
       "  --sklearn-color-text: #000;\n",
       "  --sklearn-color-text-muted: #666;\n",
       "  --sklearn-color-line: gray;\n",
       "  /* Definition of color scheme for unfitted estimators */\n",
       "  --sklearn-color-unfitted-level-0: #fff5e6;\n",
       "  --sklearn-color-unfitted-level-1: #f6e4d2;\n",
       "  --sklearn-color-unfitted-level-2: #ffe0b3;\n",
       "  --sklearn-color-unfitted-level-3: chocolate;\n",
       "  /* Definition of color scheme for fitted estimators */\n",
       "  --sklearn-color-fitted-level-0: #f0f8ff;\n",
       "  --sklearn-color-fitted-level-1: #d4ebff;\n",
       "  --sklearn-color-fitted-level-2: #b3dbfd;\n",
       "  --sklearn-color-fitted-level-3: cornflowerblue;\n",
       "\n",
       "  /* Specific color for light theme */\n",
       "  --sklearn-color-text-on-default-background: var(--sg-text-color, var(--theme-code-foreground, var(--jp-content-font-color1, black)));\n",
       "  --sklearn-color-background: var(--sg-background-color, var(--theme-background, var(--jp-layout-color0, white)));\n",
       "  --sklearn-color-border-box: var(--sg-text-color, var(--theme-code-foreground, var(--jp-content-font-color1, black)));\n",
       "  --sklearn-color-icon: #696969;\n",
       "\n",
       "  @media (prefers-color-scheme: dark) {\n",
       "    /* Redefinition of color scheme for dark theme */\n",
       "    --sklearn-color-text-on-default-background: var(--sg-text-color, var(--theme-code-foreground, var(--jp-content-font-color1, white)));\n",
       "    --sklearn-color-background: var(--sg-background-color, var(--theme-background, var(--jp-layout-color0, #111)));\n",
       "    --sklearn-color-border-box: var(--sg-text-color, var(--theme-code-foreground, var(--jp-content-font-color1, white)));\n",
       "    --sklearn-color-icon: #878787;\n",
       "  }\n",
       "}\n",
       "\n",
       "#sk-container-id-1 {\n",
       "  color: var(--sklearn-color-text);\n",
       "}\n",
       "\n",
       "#sk-container-id-1 pre {\n",
       "  padding: 0;\n",
       "}\n",
       "\n",
       "#sk-container-id-1 input.sk-hidden--visually {\n",
       "  border: 0;\n",
       "  clip: rect(1px 1px 1px 1px);\n",
       "  clip: rect(1px, 1px, 1px, 1px);\n",
       "  height: 1px;\n",
       "  margin: -1px;\n",
       "  overflow: hidden;\n",
       "  padding: 0;\n",
       "  position: absolute;\n",
       "  width: 1px;\n",
       "}\n",
       "\n",
       "#sk-container-id-1 div.sk-dashed-wrapped {\n",
       "  border: 1px dashed var(--sklearn-color-line);\n",
       "  margin: 0 0.4em 0.5em 0.4em;\n",
       "  box-sizing: border-box;\n",
       "  padding-bottom: 0.4em;\n",
       "  background-color: var(--sklearn-color-background);\n",
       "}\n",
       "\n",
       "#sk-container-id-1 div.sk-container {\n",
       "  /* jupyter's `normalize.less` sets `[hidden] { display: none; }`\n",
       "     but bootstrap.min.css set `[hidden] { display: none !important; }`\n",
       "     so we also need the `!important` here to be able to override the\n",
       "     default hidden behavior on the sphinx rendered scikit-learn.org.\n",
       "     See: https://github.com/scikit-learn/scikit-learn/issues/21755 */\n",
       "  display: inline-block !important;\n",
       "  position: relative;\n",
       "}\n",
       "\n",
       "#sk-container-id-1 div.sk-text-repr-fallback {\n",
       "  display: none;\n",
       "}\n",
       "\n",
       "div.sk-parallel-item,\n",
       "div.sk-serial,\n",
       "div.sk-item {\n",
       "  /* draw centered vertical line to link estimators */\n",
       "  background-image: linear-gradient(var(--sklearn-color-text-on-default-background), var(--sklearn-color-text-on-default-background));\n",
       "  background-size: 2px 100%;\n",
       "  background-repeat: no-repeat;\n",
       "  background-position: center center;\n",
       "}\n",
       "\n",
       "/* Parallel-specific style estimator block */\n",
       "\n",
       "#sk-container-id-1 div.sk-parallel-item::after {\n",
       "  content: \"\";\n",
       "  width: 100%;\n",
       "  border-bottom: 2px solid var(--sklearn-color-text-on-default-background);\n",
       "  flex-grow: 1;\n",
       "}\n",
       "\n",
       "#sk-container-id-1 div.sk-parallel {\n",
       "  display: flex;\n",
       "  align-items: stretch;\n",
       "  justify-content: center;\n",
       "  background-color: var(--sklearn-color-background);\n",
       "  position: relative;\n",
       "}\n",
       "\n",
       "#sk-container-id-1 div.sk-parallel-item {\n",
       "  display: flex;\n",
       "  flex-direction: column;\n",
       "}\n",
       "\n",
       "#sk-container-id-1 div.sk-parallel-item:first-child::after {\n",
       "  align-self: flex-end;\n",
       "  width: 50%;\n",
       "}\n",
       "\n",
       "#sk-container-id-1 div.sk-parallel-item:last-child::after {\n",
       "  align-self: flex-start;\n",
       "  width: 50%;\n",
       "}\n",
       "\n",
       "#sk-container-id-1 div.sk-parallel-item:only-child::after {\n",
       "  width: 0;\n",
       "}\n",
       "\n",
       "/* Serial-specific style estimator block */\n",
       "\n",
       "#sk-container-id-1 div.sk-serial {\n",
       "  display: flex;\n",
       "  flex-direction: column;\n",
       "  align-items: center;\n",
       "  background-color: var(--sklearn-color-background);\n",
       "  padding-right: 1em;\n",
       "  padding-left: 1em;\n",
       "}\n",
       "\n",
       "\n",
       "/* Toggleable style: style used for estimator/Pipeline/ColumnTransformer box that is\n",
       "clickable and can be expanded/collapsed.\n",
       "- Pipeline and ColumnTransformer use this feature and define the default style\n",
       "- Estimators will overwrite some part of the style using the `sk-estimator` class\n",
       "*/\n",
       "\n",
       "/* Pipeline and ColumnTransformer style (default) */\n",
       "\n",
       "#sk-container-id-1 div.sk-toggleable {\n",
       "  /* Default theme specific background. It is overwritten whether we have a\n",
       "  specific estimator or a Pipeline/ColumnTransformer */\n",
       "  background-color: var(--sklearn-color-background);\n",
       "}\n",
       "\n",
       "/* Toggleable label */\n",
       "#sk-container-id-1 label.sk-toggleable__label {\n",
       "  cursor: pointer;\n",
       "  display: flex;\n",
       "  width: 100%;\n",
       "  margin-bottom: 0;\n",
       "  padding: 0.5em;\n",
       "  box-sizing: border-box;\n",
       "  text-align: center;\n",
       "  align-items: start;\n",
       "  justify-content: space-between;\n",
       "  gap: 0.5em;\n",
       "}\n",
       "\n",
       "#sk-container-id-1 label.sk-toggleable__label .caption {\n",
       "  font-size: 0.6rem;\n",
       "  font-weight: lighter;\n",
       "  color: var(--sklearn-color-text-muted);\n",
       "}\n",
       "\n",
       "#sk-container-id-1 label.sk-toggleable__label-arrow:before {\n",
       "  /* Arrow on the left of the label */\n",
       "  content: \"▸\";\n",
       "  float: left;\n",
       "  margin-right: 0.25em;\n",
       "  color: var(--sklearn-color-icon);\n",
       "}\n",
       "\n",
       "#sk-container-id-1 label.sk-toggleable__label-arrow:hover:before {\n",
       "  color: var(--sklearn-color-text);\n",
       "}\n",
       "\n",
       "/* Toggleable content - dropdown */\n",
       "\n",
       "#sk-container-id-1 div.sk-toggleable__content {\n",
       "  max-height: 0;\n",
       "  max-width: 0;\n",
       "  overflow: hidden;\n",
       "  text-align: left;\n",
       "  /* unfitted */\n",
       "  background-color: var(--sklearn-color-unfitted-level-0);\n",
       "}\n",
       "\n",
       "#sk-container-id-1 div.sk-toggleable__content.fitted {\n",
       "  /* fitted */\n",
       "  background-color: var(--sklearn-color-fitted-level-0);\n",
       "}\n",
       "\n",
       "#sk-container-id-1 div.sk-toggleable__content pre {\n",
       "  margin: 0.2em;\n",
       "  border-radius: 0.25em;\n",
       "  color: var(--sklearn-color-text);\n",
       "  /* unfitted */\n",
       "  background-color: var(--sklearn-color-unfitted-level-0);\n",
       "}\n",
       "\n",
       "#sk-container-id-1 div.sk-toggleable__content.fitted pre {\n",
       "  /* unfitted */\n",
       "  background-color: var(--sklearn-color-fitted-level-0);\n",
       "}\n",
       "\n",
       "#sk-container-id-1 input.sk-toggleable__control:checked~div.sk-toggleable__content {\n",
       "  /* Expand drop-down */\n",
       "  max-height: 200px;\n",
       "  max-width: 100%;\n",
       "  overflow: auto;\n",
       "}\n",
       "\n",
       "#sk-container-id-1 input.sk-toggleable__control:checked~label.sk-toggleable__label-arrow:before {\n",
       "  content: \"▾\";\n",
       "}\n",
       "\n",
       "/* Pipeline/ColumnTransformer-specific style */\n",
       "\n",
       "#sk-container-id-1 div.sk-label input.sk-toggleable__control:checked~label.sk-toggleable__label {\n",
       "  color: var(--sklearn-color-text);\n",
       "  background-color: var(--sklearn-color-unfitted-level-2);\n",
       "}\n",
       "\n",
       "#sk-container-id-1 div.sk-label.fitted input.sk-toggleable__control:checked~label.sk-toggleable__label {\n",
       "  background-color: var(--sklearn-color-fitted-level-2);\n",
       "}\n",
       "\n",
       "/* Estimator-specific style */\n",
       "\n",
       "/* Colorize estimator box */\n",
       "#sk-container-id-1 div.sk-estimator input.sk-toggleable__control:checked~label.sk-toggleable__label {\n",
       "  /* unfitted */\n",
       "  background-color: var(--sklearn-color-unfitted-level-2);\n",
       "}\n",
       "\n",
       "#sk-container-id-1 div.sk-estimator.fitted input.sk-toggleable__control:checked~label.sk-toggleable__label {\n",
       "  /* fitted */\n",
       "  background-color: var(--sklearn-color-fitted-level-2);\n",
       "}\n",
       "\n",
       "#sk-container-id-1 div.sk-label label.sk-toggleable__label,\n",
       "#sk-container-id-1 div.sk-label label {\n",
       "  /* The background is the default theme color */\n",
       "  color: var(--sklearn-color-text-on-default-background);\n",
       "}\n",
       "\n",
       "/* On hover, darken the color of the background */\n",
       "#sk-container-id-1 div.sk-label:hover label.sk-toggleable__label {\n",
       "  color: var(--sklearn-color-text);\n",
       "  background-color: var(--sklearn-color-unfitted-level-2);\n",
       "}\n",
       "\n",
       "/* Label box, darken color on hover, fitted */\n",
       "#sk-container-id-1 div.sk-label.fitted:hover label.sk-toggleable__label.fitted {\n",
       "  color: var(--sklearn-color-text);\n",
       "  background-color: var(--sklearn-color-fitted-level-2);\n",
       "}\n",
       "\n",
       "/* Estimator label */\n",
       "\n",
       "#sk-container-id-1 div.sk-label label {\n",
       "  font-family: monospace;\n",
       "  font-weight: bold;\n",
       "  display: inline-block;\n",
       "  line-height: 1.2em;\n",
       "}\n",
       "\n",
       "#sk-container-id-1 div.sk-label-container {\n",
       "  text-align: center;\n",
       "}\n",
       "\n",
       "/* Estimator-specific */\n",
       "#sk-container-id-1 div.sk-estimator {\n",
       "  font-family: monospace;\n",
       "  border: 1px dotted var(--sklearn-color-border-box);\n",
       "  border-radius: 0.25em;\n",
       "  box-sizing: border-box;\n",
       "  margin-bottom: 0.5em;\n",
       "  /* unfitted */\n",
       "  background-color: var(--sklearn-color-unfitted-level-0);\n",
       "}\n",
       "\n",
       "#sk-container-id-1 div.sk-estimator.fitted {\n",
       "  /* fitted */\n",
       "  background-color: var(--sklearn-color-fitted-level-0);\n",
       "}\n",
       "\n",
       "/* on hover */\n",
       "#sk-container-id-1 div.sk-estimator:hover {\n",
       "  /* unfitted */\n",
       "  background-color: var(--sklearn-color-unfitted-level-2);\n",
       "}\n",
       "\n",
       "#sk-container-id-1 div.sk-estimator.fitted:hover {\n",
       "  /* fitted */\n",
       "  background-color: var(--sklearn-color-fitted-level-2);\n",
       "}\n",
       "\n",
       "/* Specification for estimator info (e.g. \"i\" and \"?\") */\n",
       "\n",
       "/* Common style for \"i\" and \"?\" */\n",
       "\n",
       ".sk-estimator-doc-link,\n",
       "a:link.sk-estimator-doc-link,\n",
       "a:visited.sk-estimator-doc-link {\n",
       "  float: right;\n",
       "  font-size: smaller;\n",
       "  line-height: 1em;\n",
       "  font-family: monospace;\n",
       "  background-color: var(--sklearn-color-background);\n",
       "  border-radius: 1em;\n",
       "  height: 1em;\n",
       "  width: 1em;\n",
       "  text-decoration: none !important;\n",
       "  margin-left: 0.5em;\n",
       "  text-align: center;\n",
       "  /* unfitted */\n",
       "  border: var(--sklearn-color-unfitted-level-1) 1pt solid;\n",
       "  color: var(--sklearn-color-unfitted-level-1);\n",
       "}\n",
       "\n",
       ".sk-estimator-doc-link.fitted,\n",
       "a:link.sk-estimator-doc-link.fitted,\n",
       "a:visited.sk-estimator-doc-link.fitted {\n",
       "  /* fitted */\n",
       "  border: var(--sklearn-color-fitted-level-1) 1pt solid;\n",
       "  color: var(--sklearn-color-fitted-level-1);\n",
       "}\n",
       "\n",
       "/* On hover */\n",
       "div.sk-estimator:hover .sk-estimator-doc-link:hover,\n",
       ".sk-estimator-doc-link:hover,\n",
       "div.sk-label-container:hover .sk-estimator-doc-link:hover,\n",
       ".sk-estimator-doc-link:hover {\n",
       "  /* unfitted */\n",
       "  background-color: var(--sklearn-color-unfitted-level-3);\n",
       "  color: var(--sklearn-color-background);\n",
       "  text-decoration: none;\n",
       "}\n",
       "\n",
       "div.sk-estimator.fitted:hover .sk-estimator-doc-link.fitted:hover,\n",
       ".sk-estimator-doc-link.fitted:hover,\n",
       "div.sk-label-container:hover .sk-estimator-doc-link.fitted:hover,\n",
       ".sk-estimator-doc-link.fitted:hover {\n",
       "  /* fitted */\n",
       "  background-color: var(--sklearn-color-fitted-level-3);\n",
       "  color: var(--sklearn-color-background);\n",
       "  text-decoration: none;\n",
       "}\n",
       "\n",
       "/* Span, style for the box shown on hovering the info icon */\n",
       ".sk-estimator-doc-link span {\n",
       "  display: none;\n",
       "  z-index: 9999;\n",
       "  position: relative;\n",
       "  font-weight: normal;\n",
       "  right: .2ex;\n",
       "  padding: .5ex;\n",
       "  margin: .5ex;\n",
       "  width: min-content;\n",
       "  min-width: 20ex;\n",
       "  max-width: 50ex;\n",
       "  color: var(--sklearn-color-text);\n",
       "  box-shadow: 2pt 2pt 4pt #999;\n",
       "  /* unfitted */\n",
       "  background: var(--sklearn-color-unfitted-level-0);\n",
       "  border: .5pt solid var(--sklearn-color-unfitted-level-3);\n",
       "}\n",
       "\n",
       ".sk-estimator-doc-link.fitted span {\n",
       "  /* fitted */\n",
       "  background: var(--sklearn-color-fitted-level-0);\n",
       "  border: var(--sklearn-color-fitted-level-3);\n",
       "}\n",
       "\n",
       ".sk-estimator-doc-link:hover span {\n",
       "  display: block;\n",
       "}\n",
       "\n",
       "/* \"?\"-specific style due to the `<a>` HTML tag */\n",
       "\n",
       "#sk-container-id-1 a.estimator_doc_link {\n",
       "  float: right;\n",
       "  font-size: 1rem;\n",
       "  line-height: 1em;\n",
       "  font-family: monospace;\n",
       "  background-color: var(--sklearn-color-background);\n",
       "  border-radius: 1rem;\n",
       "  height: 1rem;\n",
       "  width: 1rem;\n",
       "  text-decoration: none;\n",
       "  /* unfitted */\n",
       "  color: var(--sklearn-color-unfitted-level-1);\n",
       "  border: var(--sklearn-color-unfitted-level-1) 1pt solid;\n",
       "}\n",
       "\n",
       "#sk-container-id-1 a.estimator_doc_link.fitted {\n",
       "  /* fitted */\n",
       "  border: var(--sklearn-color-fitted-level-1) 1pt solid;\n",
       "  color: var(--sklearn-color-fitted-level-1);\n",
       "}\n",
       "\n",
       "/* On hover */\n",
       "#sk-container-id-1 a.estimator_doc_link:hover {\n",
       "  /* unfitted */\n",
       "  background-color: var(--sklearn-color-unfitted-level-3);\n",
       "  color: var(--sklearn-color-background);\n",
       "  text-decoration: none;\n",
       "}\n",
       "\n",
       "#sk-container-id-1 a.estimator_doc_link.fitted:hover {\n",
       "  /* fitted */\n",
       "  background-color: var(--sklearn-color-fitted-level-3);\n",
       "}\n",
       "</style><div id=\"sk-container-id-1\" class=\"sk-top-container\"><div class=\"sk-text-repr-fallback\"><pre>Pipeline(steps=[(&#x27;preprocessor&#x27;,\n",
       "                 ColumnTransformer(transformers=[(&#x27;num&#x27;,\n",
       "                                                  Pipeline(steps=[(&#x27;passthrough&#x27;,\n",
       "                                                                   FunctionTransformer(feature_names_out=&#x27;one-to-one&#x27;,\n",
       "                                                                                       func=&lt;function make_pipeline.&lt;locals&gt;.&lt;lambda&gt; at 0x7f1b97e06200&gt;))]),\n",
       "                                                  [&#x27;age&#x27;,\n",
       "                                                   &#x27;num_previous_admissions&#x27;,\n",
       "                                                   &#x27;length_of_stay&#x27;]),\n",
       "                                                 (&#x27;cat&#x27;,\n",
       "                                                  Pipeline(steps=[(&#x27;one_hot&#x27;,\n",
       "                                                                   OneHotEncoder(handle_unknown=&#x27;ignore&#x27;))]),\n",
       "                                                  [&#x27;...\n",
       "                                                                   FunctionTransformer(feature_names_out=&#x27;one-to-one&#x27;,\n",
       "                                                                                       func=&lt;function make_pipeline.&lt;locals&gt;.&lt;lambda&gt; at 0x7f1b97e06160&gt;)),\n",
       "                                                                  (&#x27;tfidf&#x27;,\n",
       "                                                                   TfidfVectorizer(stop_words=&#x27;english&#x27;))]),\n",
       "                                                  [&#x27;discharge_note&#x27;])])),\n",
       "                (&#x27;clf&#x27;,\n",
       "                 RandomForestClassifier(class_weight=&#x27;balanced&#x27;, max_depth=2,\n",
       "                                        max_features=&#x27;log2&#x27;, min_samples_leaf=3,\n",
       "                                        min_samples_split=11, n_estimators=400,\n",
       "                                        random_state=5))])</pre><b>In a Jupyter environment, please rerun this cell to show the HTML representation or trust the notebook. <br />On GitHub, the HTML representation is unable to render, please try loading this page with nbviewer.org.</b></div><div class=\"sk-container\" hidden><div class=\"sk-item sk-dashed-wrapped\"><div class=\"sk-label-container\"><div class=\"sk-label fitted sk-toggleable\"><input class=\"sk-toggleable__control sk-hidden--visually\" id=\"sk-estimator-id-1\" type=\"checkbox\" ><label for=\"sk-estimator-id-1\" class=\"sk-toggleable__label fitted sk-toggleable__label-arrow\"><div><div>Pipeline</div></div><div><a class=\"sk-estimator-doc-link fitted\" rel=\"noreferrer\" target=\"_blank\" href=\"https://scikit-learn.org/1.6/modules/generated/sklearn.pipeline.Pipeline.html\">?<span>Documentation for Pipeline</span></a><span class=\"sk-estimator-doc-link fitted\">i<span>Fitted</span></span></div></label><div class=\"sk-toggleable__content fitted\"><pre>Pipeline(steps=[(&#x27;preprocessor&#x27;,\n",
       "                 ColumnTransformer(transformers=[(&#x27;num&#x27;,\n",
       "                                                  Pipeline(steps=[(&#x27;passthrough&#x27;,\n",
       "                                                                   FunctionTransformer(feature_names_out=&#x27;one-to-one&#x27;,\n",
       "                                                                                       func=&lt;function make_pipeline.&lt;locals&gt;.&lt;lambda&gt; at 0x7f1b97e06200&gt;))]),\n",
       "                                                  [&#x27;age&#x27;,\n",
       "                                                   &#x27;num_previous_admissions&#x27;,\n",
       "                                                   &#x27;length_of_stay&#x27;]),\n",
       "                                                 (&#x27;cat&#x27;,\n",
       "                                                  Pipeline(steps=[(&#x27;one_hot&#x27;,\n",
       "                                                                   OneHotEncoder(handle_unknown=&#x27;ignore&#x27;))]),\n",
       "                                                  [&#x27;...\n",
       "                                                                   FunctionTransformer(feature_names_out=&#x27;one-to-one&#x27;,\n",
       "                                                                                       func=&lt;function make_pipeline.&lt;locals&gt;.&lt;lambda&gt; at 0x7f1b97e06160&gt;)),\n",
       "                                                                  (&#x27;tfidf&#x27;,\n",
       "                                                                   TfidfVectorizer(stop_words=&#x27;english&#x27;))]),\n",
       "                                                  [&#x27;discharge_note&#x27;])])),\n",
       "                (&#x27;clf&#x27;,\n",
       "                 RandomForestClassifier(class_weight=&#x27;balanced&#x27;, max_depth=2,\n",
       "                                        max_features=&#x27;log2&#x27;, min_samples_leaf=3,\n",
       "                                        min_samples_split=11, n_estimators=400,\n",
       "                                        random_state=5))])</pre></div> </div></div><div class=\"sk-serial\"><div class=\"sk-item sk-dashed-wrapped\"><div class=\"sk-label-container\"><div class=\"sk-label fitted sk-toggleable\"><input class=\"sk-toggleable__control sk-hidden--visually\" id=\"sk-estimator-id-2\" type=\"checkbox\" ><label for=\"sk-estimator-id-2\" class=\"sk-toggleable__label fitted sk-toggleable__label-arrow\"><div><div>preprocessor: ColumnTransformer</div></div><div><a class=\"sk-estimator-doc-link fitted\" rel=\"noreferrer\" target=\"_blank\" href=\"https://scikit-learn.org/1.6/modules/generated/sklearn.compose.ColumnTransformer.html\">?<span>Documentation for preprocessor: ColumnTransformer</span></a></div></label><div class=\"sk-toggleable__content fitted\"><pre>ColumnTransformer(transformers=[(&#x27;num&#x27;,\n",
       "                                 Pipeline(steps=[(&#x27;passthrough&#x27;,\n",
       "                                                  FunctionTransformer(feature_names_out=&#x27;one-to-one&#x27;,\n",
       "                                                                      func=&lt;function make_pipeline.&lt;locals&gt;.&lt;lambda&gt; at 0x7f1b97e06200&gt;))]),\n",
       "                                 [&#x27;age&#x27;, &#x27;num_previous_admissions&#x27;,\n",
       "                                  &#x27;length_of_stay&#x27;]),\n",
       "                                (&#x27;cat&#x27;,\n",
       "                                 Pipeline(steps=[(&#x27;one_hot&#x27;,\n",
       "                                                  OneHotEncoder(handle_unknown=&#x27;ignore&#x27;))]),\n",
       "                                 [&#x27;gender&#x27;, &#x27;diagnosis_code&#x27;,\n",
       "                                  &#x27;medication_type&#x27;]),\n",
       "                                (&#x27;note&#x27;,\n",
       "                                 Pipeline(steps=[(&#x27;single_column&#x27;,\n",
       "                                                  FunctionTransformer(feature_names_out=&#x27;one-to-one&#x27;,\n",
       "                                                                      func=&lt;function make_pipeline.&lt;locals&gt;.&lt;lambda&gt; at 0x7f1b97e06160&gt;)),\n",
       "                                                 (&#x27;tfidf&#x27;,\n",
       "                                                  TfidfVectorizer(stop_words=&#x27;english&#x27;))]),\n",
       "                                 [&#x27;discharge_note&#x27;])])</pre></div> </div></div><div class=\"sk-parallel\"><div class=\"sk-parallel-item\"><div class=\"sk-item\"><div class=\"sk-label-container\"><div class=\"sk-label fitted sk-toggleable\"><input class=\"sk-toggleable__control sk-hidden--visually\" id=\"sk-estimator-id-3\" type=\"checkbox\" ><label for=\"sk-estimator-id-3\" class=\"sk-toggleable__label fitted sk-toggleable__label-arrow\"><div><div>num</div></div></label><div class=\"sk-toggleable__content fitted\"><pre>[&#x27;age&#x27;, &#x27;num_previous_admissions&#x27;, &#x27;length_of_stay&#x27;]</pre></div> </div></div><div class=\"sk-serial\"><div class=\"sk-item\"><div class=\"sk-serial\"><div class=\"sk-item\"><div class=\"sk-estimator fitted sk-toggleable\"><input class=\"sk-toggleable__control sk-hidden--visually\" id=\"sk-estimator-id-4\" type=\"checkbox\" ><label for=\"sk-estimator-id-4\" class=\"sk-toggleable__label fitted sk-toggleable__label-arrow\"><div><div>&lt;lambda&gt;</div><div class=\"caption\">FunctionTransformer</div></div><div><a class=\"sk-estimator-doc-link fitted\" rel=\"noreferrer\" target=\"_blank\" href=\"https://scikit-learn.org/1.6/modules/generated/sklearn.preprocessing.FunctionTransformer.html\">?<span>Documentation for FunctionTransformer</span></a></div></label><div class=\"sk-toggleable__content fitted\"><pre>FunctionTransformer(feature_names_out=&#x27;one-to-one&#x27;,\n",
       "                    func=&lt;function make_pipeline.&lt;locals&gt;.&lt;lambda&gt; at 0x7f1b97e06200&gt;)</pre></div> </div></div></div></div></div></div></div><div class=\"sk-parallel-item\"><div class=\"sk-item\"><div class=\"sk-label-container\"><div class=\"sk-label fitted sk-toggleable\"><input class=\"sk-toggleable__control sk-hidden--visually\" id=\"sk-estimator-id-5\" type=\"checkbox\" ><label for=\"sk-estimator-id-5\" class=\"sk-toggleable__label fitted sk-toggleable__label-arrow\"><div><div>cat</div></div></label><div class=\"sk-toggleable__content fitted\"><pre>[&#x27;gender&#x27;, &#x27;diagnosis_code&#x27;, &#x27;medication_type&#x27;]</pre></div> </div></div><div class=\"sk-serial\"><div class=\"sk-item\"><div class=\"sk-serial\"><div class=\"sk-item\"><div class=\"sk-estimator fitted sk-toggleable\"><input class=\"sk-toggleable__control sk-hidden--visually\" id=\"sk-estimator-id-6\" type=\"checkbox\" ><label for=\"sk-estimator-id-6\" class=\"sk-toggleable__label fitted sk-toggleable__label-arrow\"><div><div>OneHotEncoder</div></div><div><a class=\"sk-estimator-doc-link fitted\" rel=\"noreferrer\" target=\"_blank\" href=\"https://scikit-learn.org/1.6/modules/generated/sklearn.preprocessing.OneHotEncoder.html\">?<span>Documentation for OneHotEncoder</span></a></div></label><div class=\"sk-toggleable__content fitted\"><pre>OneHotEncoder(handle_unknown=&#x27;ignore&#x27;)</pre></div> </div></div></div></div></div></div></div><div class=\"sk-parallel-item\"><div class=\"sk-item\"><div class=\"sk-label-container\"><div class=\"sk-label fitted sk-toggleable\"><input class=\"sk-toggleable__control sk-hidden--visually\" id=\"sk-estimator-id-7\" type=\"checkbox\" ><label for=\"sk-estimator-id-7\" class=\"sk-toggleable__label fitted sk-toggleable__label-arrow\"><div><div>note</div></div></label><div class=\"sk-toggleable__content fitted\"><pre>[&#x27;discharge_note&#x27;]</pre></div> </div></div><div class=\"sk-serial\"><div class=\"sk-item\"><div class=\"sk-serial\"><div class=\"sk-item\"><div class=\"sk-estimator fitted sk-toggleable\"><input class=\"sk-toggleable__control sk-hidden--visually\" id=\"sk-estimator-id-8\" type=\"checkbox\" ><label for=\"sk-estimator-id-8\" class=\"sk-toggleable__label fitted sk-toggleable__label-arrow\"><div><div>&lt;lambda&gt;</div><div class=\"caption\">FunctionTransformer</div></div><div><a class=\"sk-estimator-doc-link fitted\" rel=\"noreferrer\" target=\"_blank\" href=\"https://scikit-learn.org/1.6/modules/generated/sklearn.preprocessing.FunctionTransformer.html\">?<span>Documentation for FunctionTransformer</span></a></div></label><div class=\"sk-toggleable__content fitted\"><pre>FunctionTransformer(feature_names_out=&#x27;one-to-one&#x27;,\n",
       "                    func=&lt;function make_pipeline.&lt;locals&gt;.&lt;lambda&gt; at 0x7f1b97e06160&gt;)</pre></div> </div></div><div class=\"sk-item\"><div class=\"sk-estimator fitted sk-toggleable\"><input class=\"sk-toggleable__control sk-hidden--visually\" id=\"sk-estimator-id-9\" type=\"checkbox\" ><label for=\"sk-estimator-id-9\" class=\"sk-toggleable__label fitted sk-toggleable__label-arrow\"><div><div>TfidfVectorizer</div></div><div><a class=\"sk-estimator-doc-link fitted\" rel=\"noreferrer\" target=\"_blank\" href=\"https://scikit-learn.org/1.6/modules/generated/sklearn.feature_extraction.text.TfidfVectorizer.html\">?<span>Documentation for TfidfVectorizer</span></a></div></label><div class=\"sk-toggleable__content fitted\"><pre>TfidfVectorizer(stop_words=&#x27;english&#x27;)</pre></div> </div></div></div></div></div></div></div></div></div><div class=\"sk-item\"><div class=\"sk-estimator fitted sk-toggleable\"><input class=\"sk-toggleable__control sk-hidden--visually\" id=\"sk-estimator-id-10\" type=\"checkbox\" ><label for=\"sk-estimator-id-10\" class=\"sk-toggleable__label fitted sk-toggleable__label-arrow\"><div><div>RandomForestClassifier</div></div><div><a class=\"sk-estimator-doc-link fitted\" rel=\"noreferrer\" target=\"_blank\" href=\"https://scikit-learn.org/1.6/modules/generated/sklearn.ensemble.RandomForestClassifier.html\">?<span>Documentation for RandomForestClassifier</span></a></div></label><div class=\"sk-toggleable__content fitted\"><pre>RandomForestClassifier(class_weight=&#x27;balanced&#x27;, max_depth=2,\n",
       "                       max_features=&#x27;log2&#x27;, min_samples_leaf=3,\n",
       "                       min_samples_split=11, n_estimators=400, random_state=5)</pre></div> </div></div></div></div></div></div>"
      ],
      "text/plain": [
       "Pipeline(steps=[('preprocessor',\n",
       "                 ColumnTransformer(transformers=[('num',\n",
       "                                                  Pipeline(steps=[('passthrough',\n",
       "                                                                   FunctionTransformer(feature_names_out='one-to-one',\n",
       "                                                                                       func=<function make_pipeline.<locals>.<lambda> at 0x7f1b97e06200>))]),\n",
       "                                                  ['age',\n",
       "                                                   'num_previous_admissions',\n",
       "                                                   'length_of_stay']),\n",
       "                                                 ('cat',\n",
       "                                                  Pipeline(steps=[('one_hot',\n",
       "                                                                   OneHotEncoder(handle_unknown='ignore'))]),\n",
       "                                                  ['...\n",
       "                                                                   FunctionTransformer(feature_names_out='one-to-one',\n",
       "                                                                                       func=<function make_pipeline.<locals>.<lambda> at 0x7f1b97e06160>)),\n",
       "                                                                  ('tfidf',\n",
       "                                                                   TfidfVectorizer(stop_words='english'))]),\n",
       "                                                  ['discharge_note'])])),\n",
       "                ('clf',\n",
       "                 RandomForestClassifier(class_weight='balanced', max_depth=2,\n",
       "                                        max_features='log2', min_samples_leaf=3,\n",
       "                                        min_samples_split=11, n_estimators=400,\n",
       "                                        random_state=5))])"
      ]
     },
     "execution_count": 26,
     "metadata": {},
     "output_type": "execute_result"
    }
   ],
   "source": [
    "final_params = study.best_params | {\"clf__random_state\": SEED}\n",
    "readmission_clf = make_pipeline(final_params)\n",
    "readmission_clf .fit(X_train, y_train)"
   ]
  },
  {
   "cell_type": "markdown",
   "id": "267a945c",
   "metadata": {},
   "source": [
    "### Evaluate final model on the test set"
   ]
  },
  {
   "cell_type": "code",
   "execution_count": 27,
   "id": "25fc69fa",
   "metadata": {},
   "outputs": [],
   "source": [
    "# Compute predictions and probabilities for the test set\n",
    "y_test_pred = readmission_clf .predict(X_test)\n",
    "y_test_proba = readmission_clf .predict_proba(X_test)[:, 1]"
   ]
  },
  {
   "cell_type": "code",
   "execution_count": 28,
   "id": "1d21b53f",
   "metadata": {},
   "outputs": [
    {
     "name": "stdout",
     "output_type": "stream",
     "text": [
      "              precision    recall  f1-score   support\n",
      "\n",
      "           0       0.76      0.81      0.79        27\n",
      "           1       0.55      0.46      0.50        13\n",
      "\n",
      "    accuracy                           0.70        40\n",
      "   macro avg       0.65      0.64      0.64        40\n",
      "weighted avg       0.69      0.70      0.69        40\n",
      "\n"
     ]
    }
   ],
   "source": [
    "# Print a classification report including precision, recall, and F1-score on the test set\n",
    "print(metrics.classification_report(y_test, y_test_pred))"
   ]
  },
  {
   "cell_type": "code",
   "execution_count": 29,
   "id": "6cae5f96",
   "metadata": {},
   "outputs": [
    {
     "data": {
      "text/plain": [
       "<sklearn.metrics._plot.confusion_matrix.ConfusionMatrixDisplay at 0x7f1b9e12aa50>"
      ]
     },
     "execution_count": 29,
     "metadata": {},
     "output_type": "execute_result"
    },
    {
     "data": {
      "image/png": "[encoded data removed]",
      "text/plain": [
       "<Figure size 640x480 with 2 Axes>"
      ]
     },
     "metadata": {},
     "output_type": "display_data"
    }
   ],
   "source": [
    "# Plot a confusion matrix on the test set\n",
    "cm = metrics.confusion_matrix(y_test, y_test_pred, labels = readmission_clf.classes_)\n",
    "cm_plot= metrics.ConfusionMatrixDisplay(confusion_matrix=cm,\n",
    "                              display_labels=['Not readmitted', 'Readmitted'])\n",
    "cm_plot.plot()"
   ]
  },
  {
   "cell_type": "code",
   "execution_count": 30,
   "id": "8fe65069",
   "metadata": {},
   "outputs": [
    {
     "data": {
      "text/plain": [
       "<sklearn.metrics._plot.roc_curve.RocCurveDisplay at 0x7f1b9e12a270>"
      ]
     },
     "execution_count": 30,
     "metadata": {},
     "output_type": "execute_result"
    },
    {
     "data": {
      "image/png": "[encoded data removed]",
      "text/plain": [
       "<Figure size 640x480 with 1 Axes>"
      ]
     },
     "metadata": {},
     "output_type": "display_data"
    }
   ],
   "source": [
    "# Plot an ROC on the test set\n",
    "fpr, tpr, thresholds = metrics.roc_curve(y_test, y_test_proba, pos_label=1)\n",
    "roc_auc = metrics.auc(fpr, tpr)\n",
    "roc_plot = metrics.RocCurveDisplay(fpr=fpr, tpr=tpr, roc_auc=roc_auc,\n",
    "                                  estimator_name='Readmission classifier')\n",
    "roc_plot.plot()"
   ]
  },
  {
   "cell_type": "markdown",
   "id": "319a3dea",
   "metadata": {},
   "source": [
    "### Explain which features were most influential using permutation feature importance"
   ]
  },
  {
   "cell_type": "markdown",
   "id": "fcd21bb1",
   "metadata": {},
   "source": [
    "Based on: https://scikit-learn.org/stable/modules/permutation_importance.html\n",
    "\n",
    "I calculated permutation feature importance with F1-score as the scoring metric, so the feature importance value assigned to a feature is the mean decrease in F1-score when that feature is permuted, relative to the baseline score calculated with the observed instances. The mean is calculated over 50 different permutations.  "
   ]
  },
  {
   "cell_type": "code",
   "execution_count": 31,
   "id": "758e4c4e",
   "metadata": {},
   "outputs": [],
   "source": [
    "def plot_permutation_feature_importance(clf: Pipeline, X: pd.DataFrame, y: pd.Series, scoring: str, n_repeats: int, random_state: int, ax: plt.Axes = None) -> plt.Axes:\n",
    "    \"\"\"Compute permutation feature importance for a scikit-learn pipeline and plot the results as a boxplot.\"\"\"\n",
    "    # Compute permuation importance\n",
    "    r = permutation_importance(clf, X, y, scoring=scoring,\n",
    "                            n_repeats=n_repeats,\n",
    "                            random_state=random_state, n_jobs=-1)\n",
    "\n",
    "    # Order the features by mean importance, and show the standard deviation of the estimate over the repeats\n",
    "    for i in r.importances_mean.argsort()[::-1]:\n",
    "        print(f\"{X_train.columns[i]}:  \"\n",
    "                f\"{r.importances_mean[i]:.3f}\"\n",
    "                f\" +/- {r.importances_std[i]:.3f}\")\n",
    "        \n",
    "    # Plot the feature importance values\n",
    "    ax = sns.boxplot(pd.DataFrame(r.importances.transpose(), columns=X.columns), orient='h', order=[X.columns[i] for i in r.importances_mean.argsort()[::-1]], color='lightblue', ax=ax)\n",
    "    ax.axvline(x=0, linestyle='--', color='grey')\n",
    "    ax.set_title(f\"Permutation feature importance estimated using {n_repeats} permutations\")\n",
    "    ax.set_xlabel(f\"Feature importance (reduction in {scoring})\")\n",
    "    return ax"
   ]
  },
  {
   "cell_type": "code",
   "execution_count": 32,
   "id": "fbc82d89",
   "metadata": {},
   "outputs": [
    {
     "name": "stdout",
     "output_type": "stream",
     "text": [
      "discharge_note:  0.267 +/- 0.110\n",
      "medication_type:  0.055 +/- 0.073\n",
      "num_previous_admissions:  0.045 +/- 0.034\n",
      "length_of_stay:  0.034 +/- 0.045\n",
      "age:  0.011 +/- 0.051\n",
      "gender:  0.010 +/- 0.010\n",
      "diagnosis_code:  -0.025 +/- 0.046\n"
     ]
    },
    {
     "data": {
      "image/png": "[encoded data removed]",
      "text/plain": [
       "<Figure size 640x480 with 1 Axes>"
      ]
     },
     "metadata": {},
     "output_type": "display_data"
    }
   ],
   "source": [
    "fi_plot = plot_permutation_feature_importance(clf=readmission_clf , X=X_test, y=y_test, scoring='f1', n_repeats=50, random_state=SEED)"
   ]
  },
  {
   "cell_type": "markdown",
   "id": "f758d3ce",
   "metadata": {},
   "source": [
    "The top three most important raw features based on test set feature importance are discharge_note, medication_type and num_previous_admissions. These appear reasonable given the EDA, all individually were clearly informative alone. The free-text feature, discharge_note, is clearly the most important and shuffling it leads to a mean reduction in F1 score of 0.267."
   ]
  },
  {
   "cell_type": "markdown",
   "id": "0e5901b4",
   "metadata": {},
   "source": [
    "### Combined plot for report"
   ]
  },
  {
   "cell_type": "code",
   "execution_count": 33,
   "id": "34a17b1e",
   "metadata": {},
   "outputs": [
    {
     "name": "stdout",
     "output_type": "stream",
     "text": [
      "discharge_note:  0.267 +/- 0.110\n",
      "medication_type:  0.055 +/- 0.073\n",
      "num_previous_admissions:  0.045 +/- 0.034\n",
      "length_of_stay:  0.034 +/- 0.045\n",
      "age:  0.011 +/- 0.051\n",
      "gender:  0.010 +/- 0.010\n",
      "diagnosis_code:  -0.025 +/- 0.046\n"
     ]
    },
    {
     "data": {
      "text/plain": [
       "Text(-0.17, -0.63, '(b)')"
      ]
     },
     "execution_count": 33,
     "metadata": {},
     "output_type": "execute_result"
    },
    {
     "data": {
      "image/png": "[encoded data removed]",
      "text/plain": [
       "<Figure size 2200x500 with 3 Axes>"
      ]
     },
     "metadata": {},
     "output_type": "display_data"
    }
   ],
   "source": [
    "fig, ax = plt.subplots(1, 2, figsize=(22, 5))\n",
    "cm_plot.plot(ax=ax[0])\n",
    "ax[0].set_title('Confusion matrix on test set')\n",
    "plot_permutation_feature_importance(clf=readmission_clf , X=X_test, y=y_test, scoring='f1', n_repeats=50, random_state=SEED, ax=ax[1])\n",
    "ax[0].text(-0.5, -0.55, \"(a)\", fontsize=14)\n",
    "ax[1].text(-0.17, -0.63, \"(b)\", fontsize=14)"
   ]
  },
  {
   "cell_type": "markdown",
   "id": "791a0aee",
   "metadata": {},
   "source": [
    "###"
   ]
  },
  {
   "cell_type": "markdown",
   "id": "d046bcb4",
   "metadata": {},
   "source": [
    "## 2. Named Entity Recognition from Discharge Notes"
   ]
  },
  {
   "cell_type": "markdown",
   "id": "b0745482",
   "metadata": {},
   "source": [
    "### Set-up"
   ]
  },
  {
   "cell_type": "code",
   "execution_count": null,
   "id": "e45fa1d5",
   "metadata": {},
   "outputs": [],
   "source": [
    "from langchain_core.runnables.base import RunnableSequence\n",
    "from langchain_core.prompts import PromptTemplate\n",
    "from langchain_ollama import ChatOllama\n",
    "from typing import Optional\n",
    "from pydantic import BaseModel, Field"
   ]
  },
  {
   "cell_type": "markdown",
   "id": "7f5f1db7",
   "metadata": {},
   "source": [
    "### Define strucutured output and prompt template"
   ]
  },
  {
   "cell_type": "markdown",
   "id": "f335a10c",
   "metadata": {},
   "source": [
    "The entities to be extracted are not standard (e.g. person, location, company) and no labelled data has been provided, so adopted a few-shot approach with an instruction fine-tuned model. A key challenge when using such a model is hallucination, both in the format/structure of the output (making it difficult to use for downstream tasks) and potentially reporting entities that do not exist in the text (versus a token-level classification named-entity recognition model which can misclassify an entity but will give a consistent output based on the provided tokens). \n",
    "\n",
    "Therefore, using structured output, specifying how the output should look using Pydantic. This suits the problem: we can have one key per type of entity, and a list of extracted entities of each type.\n",
    "\n",
    "The combination of Ollama to serve the model, and Langchain for the Python interface was chosen because it supports structured outputs and because I have used both in the past. I selected Llama3.2:3b as the LLM because it is an open-source, instruction fine-tuned model and is the best Llama model available through Ollama that would run on my local GPU.\n",
    "\n",
    "The prompt template includes examples of each entity type, and some example I created to guide the model on how to perform extraction."
   ]
  },
  {
   "cell_type": "code",
   "execution_count": null,
   "id": "47ef115d",
   "metadata": {},
   "outputs": [],
   "source": [
    "# Instantiate an LLM using Ollama, which has support for structured outputs\n",
    "llm = ChatOllama(\n",
    "    model=\"llama3.2:3b\",\n",
    "    temperature=0, # We want deterministic, not creative, responses for extracting entities\n",
    ")\n",
    "\n",
    "# Define the structured output we want the LLM to follow\n",
    "class DischargeNoteEntities(BaseModel):\n",
    "    \"\"\"Entities to extract from patient discharge note.\"\"\"\n",
    "    diagnosis: list[str]\n",
    "    treatment: list[str]\n",
    "    symptoms: list[str]\n",
    "    medications: list[str]\n",
    "    follow_up: list[str]\n",
    "\n",
    "# Tell the LLM we want the output to follow the structure of the DischargeNoteEntities model\n",
    "structured_llm = llm.with_structured_output(DischargeNoteEntities)"
   ]
  },
  {
   "cell_type": "code",
   "execution_count": null,
   "id": "06e273dd",
   "metadata": {},
   "outputs": [],
   "source": [
    "# Define a reusable prompt template, including few-shot examples\n",
    "template =  \"\"\"\n",
    "            You will be provided with a discharge note from a patient's stay in hospital. Your task is to identify the spans of the note that\n",
    "            correspond to the following entities: diagnosis, treatment, symptoms, medications, and follow-up actions.\n",
    "\n",
    "            Diagnosis refers to diseases or other specific medical conditions mentioned in the note.\n",
    "\n",
    "            Treatment refers to procedures or interventions that are mentioned in the note, such as surgeries or therapies (excluding medications which have their own entity).\n",
    "\n",
    "            Symptoms refers to signs of disease or complaints that a patient has, such as a rash, pain, or fever (including adjectives like \"severe\" or \"mild\").\n",
    "\n",
    "            Medications refers to any drugs or substances that are mentioned in the note, including painkillers and antibiotics.\n",
    "\n",
    "            Follow-up refers to any plans for ongoing care and future appointments after discharge, and advice given to the patient about actions they should take\n",
    "            after leaving the hospital to help with their recovery (e.g. when to attend a follow-up appointment, things to do and things to avoid).\n",
    "\n",
    "            Include medications only in the medications entity, rather than as both medications and treatment.\n",
    "\n",
    "            For each entity you should return a list of strings, where each string is a verbatim extract from the patient note that corresponds to that entity.\n",
    "            If an entity is not present in the note, return an empty list for that entity.\n",
    "\n",
    "            Below are some example extractions to guide you:\n",
    "\n",
    "            ## Start of examples:\n",
    "\n",
    "            Example 1:\n",
    "            Patient note: \"The patient came in with chest pain and fatigue, we determined it was due to pneumonia. They were treated with antibiotics \n",
    "            and advised to rest. Follow-up in one week.\"\n",
    "            Output:\n",
    "            {{\n",
    "                \"diagnosis\": [\"pneumonia\"],\n",
    "                \"treatment\": [],\n",
    "                \"symptoms\": [\"chest pain\", \"fatigue\"],\n",
    "                \"medications\": [\"antibiotics],\n",
    "                \"follow_up\": [\"Follow-up in one week\"]\n",
    "            }}\n",
    "\n",
    "            Example 2:\n",
    "            Patient note: \"Admitted for hip replacement surgery due to osteoarthritis. Patient developed an infection post-surgery and was prescribed a 14-day course of antibiotics.\"\n",
    "            {{\n",
    "                \"diagnosis\": [\"osteoarthritis\", \"infection\"],\n",
    "                \"treatment\": [\"hip replacement surgery\"],\n",
    "                \"symptoms\": [],\n",
    "                \"medications\": [\"antibiotics\"],\n",
    "                \"follow_up\": []\n",
    "            }}\n",
    "\n",
    "            Example 3:\n",
    "            Patient note: \"Discharged after recovery from UTI. Given antibiotics and ibuprofen for pain. Follow-up visit with GP in 10 days.\"\n",
    "            {{\n",
    "                \"diagnosis\": [\"UTI\"],\n",
    "                \"treatment\": [],\n",
    "                \"symptoms\": [],\n",
    "                \"medications\": [\"antibiotics\", \"ibuprofen\"],\n",
    "                \"follow_up\": [\"Follow-up visit with GP in 10 days\"]\n",
    "            }}\n",
    "\n",
    "            ## End of examples\n",
    "\n",
    "            The patient note you need to extract the information from is:\n",
    "            ```{patient_note}```\n",
    "            \"\"\"\n",
    "prompt = PromptTemplate.from_template(template)"
   ]
  },
  {
   "cell_type": "code",
   "execution_count": null,
   "id": "492d062a",
   "metadata": {},
   "outputs": [],
   "source": [
    "# Input discharge notes are first added to the prompt template, and full prompt then given to the LLM\n",
    "chain = prompt | structured_llm"
   ]
  },
  {
   "cell_type": "code",
   "execution_count": null,
   "id": "40038349",
   "metadata": {},
   "outputs": [],
   "source": [
    "def extract_entities_from_note(patient_note: str, chain: RunnableSequence) -> DischargeNoteEntities:\n",
    "    \"\"\"Extract entities from a patient discharge note.\"\"\"\n",
    "    return chain.invoke({\"patient_note\": patient_note})"
   ]
  },
  {
   "cell_type": "markdown",
   "id": "c9061e23",
   "metadata": {},
   "source": [
    "I added an additional validation check to ensure that the entities have not been hallucinated by checking that they are verbatim extracts from the provided discharage note."
   ]
  },
  {
   "cell_type": "code",
   "execution_count": null,
   "id": "fc04ceb3",
   "metadata": {},
   "outputs": [],
   "source": [
    "def validate_entities(entities: DischargeNoteEntities, discharge_note: str) -> tuple[bool, list[str]]:\n",
    "    \"\"\"Check if all extracted entities are verbatim extracts from the discharge note.\"\"\"\n",
    "    errors = []\n",
    "    for entity, values in entities.model_dump().items():\n",
    "        for v in values:\n",
    "            # Case-insensitive comparison between note and extracted entities\n",
    "            if v.lower() not in discharge_note.lower():\n",
    "                errors.append(f\"Entity '{entity}', value '{v}' not verbatim extract from discharge note.\")\n",
    "    return len(errors) == 0, errors"
   ]
  },
  {
   "cell_type": "markdown",
   "id": "be8f0112",
   "metadata": {},
   "source": [
    "### Test the named entity recognition and validation on some simple examples"
   ]
  },
  {
   "cell_type": "code",
   "execution_count": null,
   "id": "38f44461",
   "metadata": {},
   "outputs": [],
   "source": [
    "# Create a new example note and model answer for evaluation\n",
    "example_note = \"The patient was admitted with headaches and nausea. After tests, we diagnosed them with a migraine. They were prescribed painkillers and advised to rest. Follow-up in two weeks.\"\n",
    "example_model_answer = DischargeNoteEntities(\n",
    "    diagnosis=[\"migraine\"],\n",
    "    treatment=[],\n",
    "    symptoms=[\"headaches\", \"nausea\"],\n",
    "    medications=[\"painkillers\"],\n",
    "    follow_up=[\"Follow-up in two weeks\"]\n",
    ")"
   ]
  },
  {
   "cell_type": "code",
   "execution_count": null,
   "id": "fb812373",
   "metadata": {},
   "outputs": [
    {
     "name": "stdout",
     "output_type": "stream",
     "text": [
      "Extracted entities: diagnosis=['migraine'] treatment=[] symptoms=['headaches', 'nausea'] medications=['painkillers'] follow_up=['Follow-up in two weeks']\n",
      "Matches model answer: True\n",
      "Valid extraction: True\n"
     ]
    }
   ],
   "source": [
    "# Run the extraction and validation on the example note and compare to the model answer\n",
    "extracted_entities = extract_entities_from_note(example_note, chain)\n",
    "is_valid, validation_errors = validate_entities(extracted_entities, example_note)\n",
    "print(\"Extracted entities:\", extracted_entities)\n",
    "print(\"Matches model answer:\", extracted_entities == example_model_answer)\n",
    "print(\"Valid extraction:\", is_valid)\n",
    "if not is_valid:\n",
    "    print(\"Validation errors:\", validation_errors)\n"
   ]
  },
  {
   "cell_type": "code",
   "execution_count": null,
   "id": "71fb5efc",
   "metadata": {},
   "outputs": [
    {
     "name": "stdout",
     "output_type": "stream",
     "text": [
      "Matches model answer: False\n",
      "Valid extraction: False\n",
      "Validation errors: [\"Entity 'symptoms', value 'dizziness' not verbatim extract from discharge note.\", \"Entity 'medications', value 'antibiotics' not verbatim extract from discharge note.\"]\n"
     ]
    }
   ],
   "source": [
    "# Create an invalid example to test that the validation function correctly identifies errors\n",
    "example_note = \"The patient was admitted with severe headaches and nausea. After tests, we diagnosed them with a migraine. They were treated with painkillers and advised to rest. Follow-up in two weeks.\"\n",
    "example_model_answer = DischargeNoteEntities(\n",
    "    diagnosis=[\"migraine\"],\n",
    "    treatment=[],\n",
    "    symptoms=[\"severe headaches\", \"nausea\"],\n",
    "    medications=[\"painkillers\"],\n",
    "    follow_up=[\"Follow-up in two weeks\"]\n",
    ")\n",
    "\n",
    "invalid_entities = DischargeNoteEntities(\n",
    "    diagnosis=[\"migraine\"],\n",
    "    treatment=[],\n",
    "    symptoms=[\"severe headaches\", \"nausea\", \"dizziness\"],  # Dizziness should not be in symptoms\n",
    "    medications=[\"antibiotics\"],  # Antibiotics should not be in medications, painkillers should be\n",
    "    follow_up=[\"Follow-up in two weeks\"]\n",
    ")\n",
    "is_valid, validation_errors = validate_entities(invalid_entities, example_note)\n",
    "print(\"Matches model answer:\", invalid_entities == example_model_answer)\n",
    "print(\"Valid extraction:\", is_valid)\n",
    "if not is_valid:\n",
    "    print(\"Validation errors:\", validation_errors)"
   ]
  },
  {
   "cell_type": "markdown",
   "id": "b4f62b00",
   "metadata": {},
   "source": [
    "This shows that the pipeline can perform named entity recognition, that the structured output is being enforced, and that the validation function correctly identifies hallucinated entities.\n"
   ]
  },
  {
   "cell_type": "markdown",
   "id": "920459ad",
   "metadata": {},
   "source": [
    "### Apply the named entity recognition pipeline to the provided discharge notes"
   ]
  },
  {
   "cell_type": "markdown",
   "id": "89950ea0",
   "metadata": {},
   "source": [
    "All the notes are repeated multiple times in the orginal dataset, so just apply once to each unique discharge note."
   ]
  },
  {
   "cell_type": "code",
   "execution_count": null,
   "id": "0afe6d94",
   "metadata": {},
   "outputs": [],
   "source": [
    "discharge_notes = data['discharge_note'].unique()"
   ]
  },
  {
   "cell_type": "code",
   "execution_count": null,
   "id": "03c41440",
   "metadata": {},
   "outputs": [
    {
     "data": {
      "text/plain": [
       "array(['Good recovery trajectory. Follow-up scan scheduled next month.',\n",
       "       'Stable post-surgery. Advised to avoid physical exertion.',\n",
       "       'Symptoms controlled. Monitoring for relapse advised.',\n",
       "       'Discharge after recovery from pneumonia. No complications observed.',\n",
       "       'Patient discharged in stable condition. Recommend follow-up in 2 weeks.',\n",
       "       'Patient showed improvement. Prescribed antibiotics for 5 days.',\n",
       "       'Blood pressure under control. Continue current medication.',\n",
       "       'Patient discharged with minor discomfort. Advised rest and hydration.',\n",
       "       'No further signs of infection. Resume normal diet and activity.',\n",
       "       'Mild reaction to medication. Switched to alternative treatment.'],\n",
       "      dtype=object)"
      ]
     },
     "execution_count": 43,
     "metadata": {},
     "output_type": "execute_result"
    }
   ],
   "source": [
    "discharge_notes"
   ]
  },
  {
   "cell_type": "code",
   "execution_count": null,
   "id": "684cabac",
   "metadata": {},
   "outputs": [],
   "source": [
    "# Apply the LLM chain to each of the provide discharge notes, recording the output and any errors from out validation function\n",
    "entities_list = []\n",
    "is_valid_list = []\n",
    "validation_errors_list = []\n",
    "\n",
    "for note in discharge_notes:\n",
    "    entities = extract_entities_from_note(note, chain)\n",
    "    is_valid, validation_errors = validate_entities(entities, note)\n",
    "    entities_list.append(entities)\n",
    "    is_valid_list.append(is_valid)\n",
    "    validation_errors_list.append(validation_errors)"
   ]
  },
  {
   "cell_type": "code",
   "execution_count": null,
   "id": "68177f6d",
   "metadata": {},
   "outputs": [
    {
     "data": {
      "text/plain": [
       "True"
      ]
     },
     "execution_count": 45,
     "metadata": {},
     "output_type": "execute_result"
    }
   ],
   "source": [
    "# Check if the extraction was valid for all notes\n",
    "all(is_valid_list)"
   ]
  },
  {
   "cell_type": "code",
   "execution_count": null,
   "id": "3fe56e94",
   "metadata": {},
   "outputs": [
    {
     "name": "stdout",
     "output_type": "stream",
     "text": [
      "Discharge Note 1:\n",
      "Note: Good recovery trajectory. Follow-up scan scheduled next month.\n",
      "Extracted entities: diagnosis=[] treatment=[] symptoms=[] medications=[] follow_up=['Follow-up scan scheduled next month.']\n",
      "\n",
      "Discharge Note 2:\n",
      "Note: Stable post-surgery. Advised to avoid physical exertion.\n",
      "Extracted entities: diagnosis=[] treatment=[] symptoms=['physical exertion'] medications=[] follow_up=[]\n",
      "\n",
      "Discharge Note 3:\n",
      "Note: Symptoms controlled. Monitoring for relapse advised.\n",
      "Extracted entities: diagnosis=[] treatment=[] symptoms=['Symptoms controlled'] medications=[] follow_up=[]\n",
      "\n",
      "Discharge Note 4:\n",
      "Note: Discharge after recovery from pneumonia. No complications observed.\n",
      "Extracted entities: diagnosis=['pneumonia'] treatment=[] symptoms=[] medications=[] follow_up=[]\n",
      "\n",
      "Discharge Note 5:\n",
      "Note: Patient discharged in stable condition. Recommend follow-up in 2 weeks.\n",
      "Extracted entities: diagnosis=[] treatment=[] symptoms=[] medications=[] follow_up=['Recommend follow-up in 2 weeks.']\n",
      "\n",
      "Discharge Note 6:\n",
      "Note: Patient showed improvement. Prescribed antibiotics for 5 days.\n",
      "Extracted entities: diagnosis=[] treatment=[] symptoms=[] medications=['antibiotics'] follow_up=[]\n",
      "\n",
      "Discharge Note 7:\n",
      "Note: Blood pressure under control. Continue current medication.\n",
      "Extracted entities: diagnosis=[] treatment=[] symptoms=[] medications=['Continue current medication'] follow_up=[]\n",
      "\n",
      "Discharge Note 8:\n",
      "Note: Patient discharged with minor discomfort. Advised rest and hydration.\n",
      "Extracted entities: diagnosis=[] treatment=[] symptoms=['minor discomfort'] medications=[] follow_up=['Advised rest and hydration']\n",
      "\n",
      "Discharge Note 9:\n",
      "Note: No further signs of infection. Resume normal diet and activity.\n",
      "Extracted entities: diagnosis=[] treatment=[] symptoms=['No further signs of infection'] medications=[] follow_up=['Resume normal diet and activity']\n",
      "\n",
      "Discharge Note 10:\n",
      "Note: Mild reaction to medication. Switched to alternative treatment.\n",
      "Extracted entities: diagnosis=[] treatment=['alternative treatment'] symptoms=['mild reaction to medication'] medications=[] follow_up=[]\n",
      "\n"
     ]
    }
   ],
   "source": [
    "# Print pairs of discharge notes and their extracted entities\n",
    "for i in range(len(entities_list)):\n",
    "    print(f\"Discharge Note {i+1}:\")\n",
    "    print(\"Note:\", discharge_notes[i])\n",
    "    print(\"Extracted entities:\", entities_list[i])\n",
    "    print(\"\")"
   ]
  },
  {
   "cell_type": "markdown",
   "id": "48db6ac5",
   "metadata": {},
   "source": [
    "No labels were provided for these discharge notes and therefore I have not computed any metrics (e.g. precision and recall for the entities) on the cases. I considered labelled them myself, but there is some ambiguity and several entities are not well represented (e.g. pneumonia appears to be the only diagnosis), so I did not think the metrics would be informative. The examples above show that there is certainly room for improvement, but a fully labelled set of evaluation examples is needed to quantity the results and guide subsequent prompt engineering etc. \n",
    "\n",
    "My efforts to stop hallucination were successful on these 10 notes - the structured output has been enforced and the validation check shows that all of the extracted entities are verbatim extracts from the associated discharge note even if they may have been misclassified. \n",
    "\n",
    "There are several examples in the provided discharge notes where an extracted entity is related to a concept but not really an entity, for example \"Continue current medication\" is extracted as a medication for note 7, but this should probably be considered a follow-up action and doesn't mention a specific mediation. Similarly, \"alternative treatment\" has been identified (reasonably) as a treatment, but is not a useful treatment to extract.\n",
    "\n",
    "Using a general purpose, instruction fine-tuned LLM enables a working proof-of-concept to be quickly developed simply be describing each entity and providing some examples of extraction. However, the model has been trained on a general corpus and may still not apply these terms in the way they would be meant by a medical professional, and may have a limited understanding of specific medical terminology. Fine-tuning either a general purpose LLM on a medical corpus, or a token-level classification model using medical examples of these specific entities, could lead to improved performance (or, at least, performance that matches a much larger, more expensive general purpose model)."
   ]
  }
 ],
 "metadata": {
  "kernelspec": {
   "display_name": "Python 3 (ipykernel)",
   "language": "python",
   "name": "python3"
  },
  "language_info": {
   "codemirror_mode": {
    "name": "ipython",
    "version": 3
   },
   "file_extension": ".py",
   "mimetype": "text/x-python",
   "name": "python",
   "nbconvert_exporter": "python",
   "pygments_lexer": "ipython3",
   "version": "3.13.1"
  }
 },
 "nbformat": 4,
 "nbformat_minor": 5
}
